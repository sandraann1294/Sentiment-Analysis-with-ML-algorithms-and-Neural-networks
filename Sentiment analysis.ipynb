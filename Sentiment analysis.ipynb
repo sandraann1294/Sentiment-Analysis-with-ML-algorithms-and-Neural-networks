{
 "cells": [
  {
   "cell_type": "code",
   "execution_count": 1,
   "metadata": {
    "execution": {
     "iopub.execute_input": "2023-04-09T22:22:47.624599Z",
     "iopub.status.busy": "2023-04-09T22:22:47.623599Z",
     "iopub.status.idle": "2023-04-09T22:22:49.022925Z",
     "shell.execute_reply": "2023-04-09T22:22:49.021491Z",
     "shell.execute_reply.started": "2023-04-09T22:22:47.624560Z"
    }
   },
   "outputs": [],
   "source": [
    "import pandas as pd\n",
    "import numpy as np\n",
    "import seaborn as sns\n",
    "import matplotlib.pyplot as plt\n",
    "\n",
    "import nltk\n",
    "from nltk.corpus import stopwords\n",
    "from nltk.tokenize import word_tokenize\n",
    "from sklearn.model_selection import train_test_split\n",
    "from sklearn.feature_extraction.text import CountVectorizer\n",
    "from sklearn.naive_bayes import MultinomialNB\n",
    "from sklearn.metrics import accuracy_score, confusion_matrix,classification_report\n",
    "import string as st\n"
   ]
  },
  {
   "cell_type": "code",
   "execution_count": 2,
   "metadata": {
    "execution": {
     "iopub.execute_input": "2023-04-09T22:22:49.025773Z",
     "iopub.status.busy": "2023-04-09T22:22:49.025201Z",
     "iopub.status.idle": "2023-04-09T22:22:51.682956Z",
     "shell.execute_reply": "2023-04-09T22:22:51.681823Z",
     "shell.execute_reply.started": "2023-04-09T22:22:49.025723Z"
    }
   },
   "outputs": [],
   "source": [
    "## Load dataset\n",
    "train_df = pd.read_excel(r\"C:\\Users\\saras\\Documents\\School\\CAP5610-Machine learning\\datasets\\drugs_train.xlsx\")\n",
    "test_df = pd.read_excel(r\"C:\\Users\\saras\\Documents\\School\\CAP5610-Machine learning\\datasets\\drugs_test.xlsx\")"
   ]
  },
  {
   "cell_type": "code",
   "execution_count": 3,
   "metadata": {
    "execution": {
     "iopub.execute_input": "2023-04-09T18:40:05.228909Z",
     "iopub.status.busy": "2023-04-09T18:40:05.228663Z",
     "iopub.status.idle": "2023-04-09T18:40:21.445344Z",
     "shell.execute_reply": "2023-04-09T18:40:21.443755Z",
     "shell.execute_reply.started": "2023-04-09T18:40:05.228885Z"
    },
    "jupyter": {
     "outputs_hidden": true
    }
   },
   "outputs": [
    {
     "name": "stderr",
     "output_type": "stream",
     "text": [
      "[nltk_data] Downloading collection 'all'\n",
      "[nltk_data]    | \n",
      "[nltk_data]    | Downloading package abc to\n",
      "[nltk_data]    |     C:\\Users\\saras\\AppData\\Roaming\\nltk_data...\n",
      "[nltk_data]    |   Package abc is already up-to-date!\n",
      "[nltk_data]    | Downloading package alpino to\n",
      "[nltk_data]    |     C:\\Users\\saras\\AppData\\Roaming\\nltk_data...\n",
      "[nltk_data]    |   Package alpino is already up-to-date!\n",
      "[nltk_data]    | Downloading package averaged_perceptron_tagger to\n",
      "[nltk_data]    |     C:\\Users\\saras\\AppData\\Roaming\\nltk_data...\n",
      "[nltk_data]    |   Package averaged_perceptron_tagger is already up-\n",
      "[nltk_data]    |       to-date!\n",
      "[nltk_data]    | Downloading package averaged_perceptron_tagger_ru to\n",
      "[nltk_data]    |     C:\\Users\\saras\\AppData\\Roaming\\nltk_data...\n",
      "[nltk_data]    |   Package averaged_perceptron_tagger_ru is already\n",
      "[nltk_data]    |       up-to-date!\n",
      "[nltk_data]    | Downloading package basque_grammars to\n",
      "[nltk_data]    |     C:\\Users\\saras\\AppData\\Roaming\\nltk_data...\n",
      "[nltk_data]    |   Package basque_grammars is already up-to-date!\n",
      "[nltk_data]    | Downloading package bcp47 to\n",
      "[nltk_data]    |     C:\\Users\\saras\\AppData\\Roaming\\nltk_data...\n",
      "[nltk_data]    |   Package bcp47 is already up-to-date!\n",
      "[nltk_data]    | Downloading package biocreative_ppi to\n",
      "[nltk_data]    |     C:\\Users\\saras\\AppData\\Roaming\\nltk_data...\n",
      "[nltk_data]    |   Package biocreative_ppi is already up-to-date!\n",
      "[nltk_data]    | Downloading package bllip_wsj_no_aux to\n",
      "[nltk_data]    |     C:\\Users\\saras\\AppData\\Roaming\\nltk_data...\n",
      "[nltk_data]    |   Package bllip_wsj_no_aux is already up-to-date!\n",
      "[nltk_data]    | Downloading package book_grammars to\n",
      "[nltk_data]    |     C:\\Users\\saras\\AppData\\Roaming\\nltk_data...\n",
      "[nltk_data]    |   Package book_grammars is already up-to-date!\n",
      "[nltk_data]    | Downloading package brown to\n",
      "[nltk_data]    |     C:\\Users\\saras\\AppData\\Roaming\\nltk_data...\n",
      "[nltk_data]    |   Package brown is already up-to-date!\n",
      "[nltk_data]    | Downloading package brown_tei to\n",
      "[nltk_data]    |     C:\\Users\\saras\\AppData\\Roaming\\nltk_data...\n",
      "[nltk_data]    |   Package brown_tei is already up-to-date!\n",
      "[nltk_data]    | Downloading package cess_cat to\n",
      "[nltk_data]    |     C:\\Users\\saras\\AppData\\Roaming\\nltk_data...\n",
      "[nltk_data]    |   Package cess_cat is already up-to-date!\n",
      "[nltk_data]    | Downloading package cess_esp to\n",
      "[nltk_data]    |     C:\\Users\\saras\\AppData\\Roaming\\nltk_data...\n",
      "[nltk_data]    |   Package cess_esp is already up-to-date!\n",
      "[nltk_data]    | Downloading package chat80 to\n",
      "[nltk_data]    |     C:\\Users\\saras\\AppData\\Roaming\\nltk_data...\n",
      "[nltk_data]    |   Package chat80 is already up-to-date!\n",
      "[nltk_data]    | Downloading package city_database to\n",
      "[nltk_data]    |     C:\\Users\\saras\\AppData\\Roaming\\nltk_data...\n",
      "[nltk_data]    |   Package city_database is already up-to-date!\n",
      "[nltk_data]    | Downloading package cmudict to\n",
      "[nltk_data]    |     C:\\Users\\saras\\AppData\\Roaming\\nltk_data...\n",
      "[nltk_data]    |   Package cmudict is already up-to-date!\n",
      "[nltk_data]    | Downloading package comparative_sentences to\n",
      "[nltk_data]    |     C:\\Users\\saras\\AppData\\Roaming\\nltk_data...\n",
      "[nltk_data]    |   Package comparative_sentences is already up-to-\n",
      "[nltk_data]    |       date!\n",
      "[nltk_data]    | Downloading package comtrans to\n",
      "[nltk_data]    |     C:\\Users\\saras\\AppData\\Roaming\\nltk_data...\n",
      "[nltk_data]    |   Package comtrans is already up-to-date!\n",
      "[nltk_data]    | Downloading package conll2000 to\n",
      "[nltk_data]    |     C:\\Users\\saras\\AppData\\Roaming\\nltk_data...\n",
      "[nltk_data]    |   Package conll2000 is already up-to-date!\n",
      "[nltk_data]    | Downloading package conll2002 to\n",
      "[nltk_data]    |     C:\\Users\\saras\\AppData\\Roaming\\nltk_data...\n",
      "[nltk_data]    |   Package conll2002 is already up-to-date!\n",
      "[nltk_data]    | Downloading package conll2007 to\n",
      "[nltk_data]    |     C:\\Users\\saras\\AppData\\Roaming\\nltk_data...\n",
      "[nltk_data]    |   Package conll2007 is already up-to-date!\n",
      "[nltk_data]    | Downloading package crubadan to\n",
      "[nltk_data]    |     C:\\Users\\saras\\AppData\\Roaming\\nltk_data...\n",
      "[nltk_data]    |   Package crubadan is already up-to-date!\n",
      "[nltk_data]    | Downloading package dependency_treebank to\n",
      "[nltk_data]    |     C:\\Users\\saras\\AppData\\Roaming\\nltk_data...\n",
      "[nltk_data]    |   Package dependency_treebank is already up-to-date!\n",
      "[nltk_data]    | Downloading package dolch to\n",
      "[nltk_data]    |     C:\\Users\\saras\\AppData\\Roaming\\nltk_data...\n",
      "[nltk_data]    |   Package dolch is already up-to-date!\n",
      "[nltk_data]    | Downloading package europarl_raw to\n",
      "[nltk_data]    |     C:\\Users\\saras\\AppData\\Roaming\\nltk_data...\n",
      "[nltk_data]    |   Package europarl_raw is already up-to-date!\n",
      "[nltk_data]    | Downloading package extended_omw to\n",
      "[nltk_data]    |     C:\\Users\\saras\\AppData\\Roaming\\nltk_data...\n",
      "[nltk_data]    |   Package extended_omw is already up-to-date!\n",
      "[nltk_data]    | Downloading package floresta to\n",
      "[nltk_data]    |     C:\\Users\\saras\\AppData\\Roaming\\nltk_data...\n",
      "[nltk_data]    |   Package floresta is already up-to-date!\n",
      "[nltk_data]    | Downloading package framenet_v15 to\n",
      "[nltk_data]    |     C:\\Users\\saras\\AppData\\Roaming\\nltk_data...\n",
      "[nltk_data]    |   Package framenet_v15 is already up-to-date!\n",
      "[nltk_data]    | Downloading package framenet_v17 to\n",
      "[nltk_data]    |     C:\\Users\\saras\\AppData\\Roaming\\nltk_data...\n",
      "[nltk_data]    |   Package framenet_v17 is already up-to-date!\n",
      "[nltk_data]    | Downloading package gazetteers to\n",
      "[nltk_data]    |     C:\\Users\\saras\\AppData\\Roaming\\nltk_data...\n",
      "[nltk_data]    |   Package gazetteers is already up-to-date!\n",
      "[nltk_data]    | Downloading package genesis to\n",
      "[nltk_data]    |     C:\\Users\\saras\\AppData\\Roaming\\nltk_data...\n",
      "[nltk_data]    |   Package genesis is already up-to-date!\n",
      "[nltk_data]    | Downloading package gutenberg to\n",
      "[nltk_data]    |     C:\\Users\\saras\\AppData\\Roaming\\nltk_data...\n",
      "[nltk_data]    |   Package gutenberg is already up-to-date!\n",
      "[nltk_data]    | Downloading package ieer to\n",
      "[nltk_data]    |     C:\\Users\\saras\\AppData\\Roaming\\nltk_data...\n",
      "[nltk_data]    |   Package ieer is already up-to-date!\n",
      "[nltk_data]    | Downloading package inaugural to\n",
      "[nltk_data]    |     C:\\Users\\saras\\AppData\\Roaming\\nltk_data...\n",
      "[nltk_data]    |   Package inaugural is already up-to-date!\n",
      "[nltk_data]    | Downloading package indian to\n",
      "[nltk_data]    |     C:\\Users\\saras\\AppData\\Roaming\\nltk_data...\n",
      "[nltk_data]    |   Package indian is already up-to-date!\n",
      "[nltk_data]    | Downloading package jeita to\n",
      "[nltk_data]    |     C:\\Users\\saras\\AppData\\Roaming\\nltk_data...\n",
      "[nltk_data]    |   Package jeita is already up-to-date!\n",
      "[nltk_data]    | Downloading package kimmo to\n",
      "[nltk_data]    |     C:\\Users\\saras\\AppData\\Roaming\\nltk_data...\n",
      "[nltk_data]    |   Package kimmo is already up-to-date!\n",
      "[nltk_data]    | Downloading package knbc to\n",
      "[nltk_data]    |     C:\\Users\\saras\\AppData\\Roaming\\nltk_data...\n",
      "[nltk_data]    |   Package knbc is already up-to-date!\n",
      "[nltk_data]    | Downloading package large_grammars to\n",
      "[nltk_data]    |     C:\\Users\\saras\\AppData\\Roaming\\nltk_data...\n",
      "[nltk_data]    |   Package large_grammars is already up-to-date!\n",
      "[nltk_data]    | Downloading package lin_thesaurus to\n",
      "[nltk_data]    |     C:\\Users\\saras\\AppData\\Roaming\\nltk_data...\n",
      "[nltk_data]    |   Package lin_thesaurus is already up-to-date!\n",
      "[nltk_data]    | Downloading package mac_morpho to\n",
      "[nltk_data]    |     C:\\Users\\saras\\AppData\\Roaming\\nltk_data...\n",
      "[nltk_data]    |   Package mac_morpho is already up-to-date!\n",
      "[nltk_data]    | Downloading package machado to\n",
      "[nltk_data]    |     C:\\Users\\saras\\AppData\\Roaming\\nltk_data...\n",
      "[nltk_data]    |   Package machado is already up-to-date!\n",
      "[nltk_data]    | Downloading package masc_tagged to\n",
      "[nltk_data]    |     C:\\Users\\saras\\AppData\\Roaming\\nltk_data...\n",
      "[nltk_data]    |   Package masc_tagged is already up-to-date!\n",
      "[nltk_data]    | Downloading package maxent_ne_chunker to\n",
      "[nltk_data]    |     C:\\Users\\saras\\AppData\\Roaming\\nltk_data...\n",
      "[nltk_data]    |   Package maxent_ne_chunker is already up-to-date!\n",
      "[nltk_data]    | Downloading package maxent_treebank_pos_tagger to\n",
      "[nltk_data]    |     C:\\Users\\saras\\AppData\\Roaming\\nltk_data...\n",
      "[nltk_data]    |   Package maxent_treebank_pos_tagger is already up-\n",
      "[nltk_data]    |       to-date!\n",
      "[nltk_data]    | Downloading package moses_sample to\n",
      "[nltk_data]    |     C:\\Users\\saras\\AppData\\Roaming\\nltk_data...\n",
      "[nltk_data]    |   Package moses_sample is already up-to-date!\n",
      "[nltk_data]    | Downloading package movie_reviews to\n",
      "[nltk_data]    |     C:\\Users\\saras\\AppData\\Roaming\\nltk_data...\n",
      "[nltk_data]    |   Package movie_reviews is already up-to-date!\n",
      "[nltk_data]    | Downloading package mte_teip5 to\n",
      "[nltk_data]    |     C:\\Users\\saras\\AppData\\Roaming\\nltk_data...\n",
      "[nltk_data]    |   Package mte_teip5 is already up-to-date!\n",
      "[nltk_data]    | Downloading package mwa_ppdb to\n",
      "[nltk_data]    |     C:\\Users\\saras\\AppData\\Roaming\\nltk_data...\n",
      "[nltk_data]    |   Package mwa_ppdb is already up-to-date!\n",
      "[nltk_data]    | Downloading package names to\n",
      "[nltk_data]    |     C:\\Users\\saras\\AppData\\Roaming\\nltk_data...\n",
      "[nltk_data]    |   Package names is already up-to-date!\n",
      "[nltk_data]    | Downloading package nombank.1.0 to\n",
      "[nltk_data]    |     C:\\Users\\saras\\AppData\\Roaming\\nltk_data...\n",
      "[nltk_data]    |   Package nombank.1.0 is already up-to-date!\n",
      "[nltk_data]    | Downloading package nonbreaking_prefixes to\n",
      "[nltk_data]    |     C:\\Users\\saras\\AppData\\Roaming\\nltk_data...\n",
      "[nltk_data]    |   Package nonbreaking_prefixes is already up-to-date!\n",
      "[nltk_data]    | Downloading package nps_chat to\n",
      "[nltk_data]    |     C:\\Users\\saras\\AppData\\Roaming\\nltk_data...\n",
      "[nltk_data]    |   Package nps_chat is already up-to-date!\n",
      "[nltk_data]    | Downloading package omw to\n",
      "[nltk_data]    |     C:\\Users\\saras\\AppData\\Roaming\\nltk_data...\n",
      "[nltk_data]    |   Package omw is already up-to-date!\n",
      "[nltk_data]    | Downloading package omw-1.4 to\n",
      "[nltk_data]    |     C:\\Users\\saras\\AppData\\Roaming\\nltk_data...\n",
      "[nltk_data]    |   Package omw-1.4 is already up-to-date!\n",
      "[nltk_data]    | Downloading package opinion_lexicon to\n",
      "[nltk_data]    |     C:\\Users\\saras\\AppData\\Roaming\\nltk_data...\n",
      "[nltk_data]    |   Package opinion_lexicon is already up-to-date!\n",
      "[nltk_data]    | Downloading package panlex_swadesh to\n",
      "[nltk_data]    |     C:\\Users\\saras\\AppData\\Roaming\\nltk_data...\n",
      "[nltk_data]    |   Package panlex_swadesh is already up-to-date!\n",
      "[nltk_data]    | Downloading package paradigms to\n",
      "[nltk_data]    |     C:\\Users\\saras\\AppData\\Roaming\\nltk_data...\n",
      "[nltk_data]    |   Package paradigms is already up-to-date!\n",
      "[nltk_data]    | Downloading package pe08 to\n",
      "[nltk_data]    |     C:\\Users\\saras\\AppData\\Roaming\\nltk_data...\n",
      "[nltk_data]    |   Package pe08 is already up-to-date!\n",
      "[nltk_data]    | Downloading package perluniprops to\n",
      "[nltk_data]    |     C:\\Users\\saras\\AppData\\Roaming\\nltk_data...\n",
      "[nltk_data]    |   Package perluniprops is already up-to-date!\n",
      "[nltk_data]    | Downloading package pil to\n",
      "[nltk_data]    |     C:\\Users\\saras\\AppData\\Roaming\\nltk_data...\n",
      "[nltk_data]    |   Package pil is already up-to-date!\n",
      "[nltk_data]    | Downloading package pl196x to\n",
      "[nltk_data]    |     C:\\Users\\saras\\AppData\\Roaming\\nltk_data...\n",
      "[nltk_data]    |   Package pl196x is already up-to-date!\n",
      "[nltk_data]    | Downloading package porter_test to\n",
      "[nltk_data]    |     C:\\Users\\saras\\AppData\\Roaming\\nltk_data...\n",
      "[nltk_data]    |   Package porter_test is already up-to-date!\n",
      "[nltk_data]    | Downloading package ppattach to\n",
      "[nltk_data]    |     C:\\Users\\saras\\AppData\\Roaming\\nltk_data...\n",
      "[nltk_data]    |   Package ppattach is already up-to-date!\n",
      "[nltk_data]    | Downloading package problem_reports to\n",
      "[nltk_data]    |     C:\\Users\\saras\\AppData\\Roaming\\nltk_data...\n",
      "[nltk_data]    |   Package problem_reports is already up-to-date!\n",
      "[nltk_data]    | Downloading package product_reviews_1 to\n",
      "[nltk_data]    |     C:\\Users\\saras\\AppData\\Roaming\\nltk_data...\n",
      "[nltk_data]    |   Package product_reviews_1 is already up-to-date!\n",
      "[nltk_data]    | Downloading package product_reviews_2 to\n",
      "[nltk_data]    |     C:\\Users\\saras\\AppData\\Roaming\\nltk_data...\n",
      "[nltk_data]    |   Package product_reviews_2 is already up-to-date!\n",
      "[nltk_data]    | Downloading package propbank to\n",
      "[nltk_data]    |     C:\\Users\\saras\\AppData\\Roaming\\nltk_data...\n",
      "[nltk_data]    |   Package propbank is already up-to-date!\n",
      "[nltk_data]    | Downloading package pros_cons to\n",
      "[nltk_data]    |     C:\\Users\\saras\\AppData\\Roaming\\nltk_data...\n",
      "[nltk_data]    |   Package pros_cons is already up-to-date!\n",
      "[nltk_data]    | Downloading package ptb to\n",
      "[nltk_data]    |     C:\\Users\\saras\\AppData\\Roaming\\nltk_data...\n",
      "[nltk_data]    |   Package ptb is already up-to-date!\n",
      "[nltk_data]    | Downloading package punkt to\n",
      "[nltk_data]    |     C:\\Users\\saras\\AppData\\Roaming\\nltk_data...\n",
      "[nltk_data]    |   Package punkt is already up-to-date!\n",
      "[nltk_data]    | Downloading package qc to\n",
      "[nltk_data]    |     C:\\Users\\saras\\AppData\\Roaming\\nltk_data...\n",
      "[nltk_data]    |   Package qc is already up-to-date!\n",
      "[nltk_data]    | Downloading package reuters to\n",
      "[nltk_data]    |     C:\\Users\\saras\\AppData\\Roaming\\nltk_data...\n",
      "[nltk_data]    |   Package reuters is already up-to-date!\n",
      "[nltk_data]    | Downloading package rslp to\n",
      "[nltk_data]    |     C:\\Users\\saras\\AppData\\Roaming\\nltk_data...\n",
      "[nltk_data]    |   Package rslp is already up-to-date!\n",
      "[nltk_data]    | Downloading package rte to\n",
      "[nltk_data]    |     C:\\Users\\saras\\AppData\\Roaming\\nltk_data...\n",
      "[nltk_data]    |   Package rte is already up-to-date!\n",
      "[nltk_data]    | Downloading package sample_grammars to\n",
      "[nltk_data]    |     C:\\Users\\saras\\AppData\\Roaming\\nltk_data...\n",
      "[nltk_data]    |   Package sample_grammars is already up-to-date!\n",
      "[nltk_data]    | Downloading package semcor to\n",
      "[nltk_data]    |     C:\\Users\\saras\\AppData\\Roaming\\nltk_data...\n",
      "[nltk_data]    |   Package semcor is already up-to-date!\n",
      "[nltk_data]    | Downloading package senseval to\n",
      "[nltk_data]    |     C:\\Users\\saras\\AppData\\Roaming\\nltk_data...\n",
      "[nltk_data]    |   Package senseval is already up-to-date!\n",
      "[nltk_data]    | Downloading package sentence_polarity to\n",
      "[nltk_data]    |     C:\\Users\\saras\\AppData\\Roaming\\nltk_data...\n",
      "[nltk_data]    |   Package sentence_polarity is already up-to-date!\n",
      "[nltk_data]    | Downloading package sentiwordnet to\n",
      "[nltk_data]    |     C:\\Users\\saras\\AppData\\Roaming\\nltk_data...\n",
      "[nltk_data]    |   Package sentiwordnet is already up-to-date!\n",
      "[nltk_data]    | Downloading package shakespeare to\n",
      "[nltk_data]    |     C:\\Users\\saras\\AppData\\Roaming\\nltk_data...\n",
      "[nltk_data]    |   Package shakespeare is already up-to-date!\n",
      "[nltk_data]    | Downloading package sinica_treebank to\n",
      "[nltk_data]    |     C:\\Users\\saras\\AppData\\Roaming\\nltk_data...\n",
      "[nltk_data]    |   Package sinica_treebank is already up-to-date!\n",
      "[nltk_data]    | Downloading package smultron to\n",
      "[nltk_data]    |     C:\\Users\\saras\\AppData\\Roaming\\nltk_data...\n",
      "[nltk_data]    |   Package smultron is already up-to-date!\n",
      "[nltk_data]    | Downloading package snowball_data to\n",
      "[nltk_data]    |     C:\\Users\\saras\\AppData\\Roaming\\nltk_data...\n",
      "[nltk_data]    |   Package snowball_data is already up-to-date!\n",
      "[nltk_data]    | Downloading package spanish_grammars to\n",
      "[nltk_data]    |     C:\\Users\\saras\\AppData\\Roaming\\nltk_data...\n",
      "[nltk_data]    |   Package spanish_grammars is already up-to-date!\n",
      "[nltk_data]    | Downloading package state_union to\n",
      "[nltk_data]    |     C:\\Users\\saras\\AppData\\Roaming\\nltk_data...\n",
      "[nltk_data]    |   Package state_union is already up-to-date!\n",
      "[nltk_data]    | Downloading package stopwords to\n",
      "[nltk_data]    |     C:\\Users\\saras\\AppData\\Roaming\\nltk_data...\n",
      "[nltk_data]    |   Package stopwords is already up-to-date!\n",
      "[nltk_data]    | Downloading package subjectivity to\n",
      "[nltk_data]    |     C:\\Users\\saras\\AppData\\Roaming\\nltk_data...\n",
      "[nltk_data]    |   Package subjectivity is already up-to-date!\n",
      "[nltk_data]    | Downloading package swadesh to\n",
      "[nltk_data]    |     C:\\Users\\saras\\AppData\\Roaming\\nltk_data...\n",
      "[nltk_data]    |   Package swadesh is already up-to-date!\n",
      "[nltk_data]    | Downloading package switchboard to\n",
      "[nltk_data]    |     C:\\Users\\saras\\AppData\\Roaming\\nltk_data...\n",
      "[nltk_data]    |   Package switchboard is already up-to-date!\n",
      "[nltk_data]    | Downloading package tagsets to\n",
      "[nltk_data]    |     C:\\Users\\saras\\AppData\\Roaming\\nltk_data...\n",
      "[nltk_data]    |   Package tagsets is already up-to-date!\n",
      "[nltk_data]    | Downloading package timit to\n",
      "[nltk_data]    |     C:\\Users\\saras\\AppData\\Roaming\\nltk_data...\n",
      "[nltk_data]    |   Package timit is already up-to-date!\n",
      "[nltk_data]    | Downloading package toolbox to\n",
      "[nltk_data]    |     C:\\Users\\saras\\AppData\\Roaming\\nltk_data...\n",
      "[nltk_data]    |   Package toolbox is already up-to-date!\n",
      "[nltk_data]    | Downloading package treebank to\n",
      "[nltk_data]    |     C:\\Users\\saras\\AppData\\Roaming\\nltk_data...\n",
      "[nltk_data]    |   Package treebank is already up-to-date!\n",
      "[nltk_data]    | Downloading package twitter_samples to\n",
      "[nltk_data]    |     C:\\Users\\saras\\AppData\\Roaming\\nltk_data...\n",
      "[nltk_data]    |   Package twitter_samples is already up-to-date!\n",
      "[nltk_data]    | Downloading package udhr to\n",
      "[nltk_data]    |     C:\\Users\\saras\\AppData\\Roaming\\nltk_data...\n",
      "[nltk_data]    |   Package udhr is already up-to-date!\n",
      "[nltk_data]    | Downloading package udhr2 to\n",
      "[nltk_data]    |     C:\\Users\\saras\\AppData\\Roaming\\nltk_data...\n",
      "[nltk_data]    |   Package udhr2 is already up-to-date!\n",
      "[nltk_data]    | Downloading package unicode_samples to\n",
      "[nltk_data]    |     C:\\Users\\saras\\AppData\\Roaming\\nltk_data...\n",
      "[nltk_data]    |   Package unicode_samples is already up-to-date!\n",
      "[nltk_data]    | Downloading package universal_tagset to\n",
      "[nltk_data]    |     C:\\Users\\saras\\AppData\\Roaming\\nltk_data...\n",
      "[nltk_data]    |   Package universal_tagset is already up-to-date!\n",
      "[nltk_data]    | Downloading package universal_treebanks_v20 to\n",
      "[nltk_data]    |     C:\\Users\\saras\\AppData\\Roaming\\nltk_data...\n",
      "[nltk_data]    |   Package universal_treebanks_v20 is already up-to-\n",
      "[nltk_data]    |       date!\n",
      "[nltk_data]    | Downloading package vader_lexicon to\n",
      "[nltk_data]    |     C:\\Users\\saras\\AppData\\Roaming\\nltk_data...\n",
      "[nltk_data]    |   Package vader_lexicon is already up-to-date!\n",
      "[nltk_data]    | Downloading package verbnet to\n",
      "[nltk_data]    |     C:\\Users\\saras\\AppData\\Roaming\\nltk_data...\n",
      "[nltk_data]    |   Package verbnet is already up-to-date!\n",
      "[nltk_data]    | Downloading package verbnet3 to\n",
      "[nltk_data]    |     C:\\Users\\saras\\AppData\\Roaming\\nltk_data...\n",
      "[nltk_data]    |   Package verbnet3 is already up-to-date!\n",
      "[nltk_data]    | Downloading package webtext to\n",
      "[nltk_data]    |     C:\\Users\\saras\\AppData\\Roaming\\nltk_data...\n",
      "[nltk_data]    |   Package webtext is already up-to-date!\n",
      "[nltk_data]    | Downloading package wmt15_eval to\n",
      "[nltk_data]    |     C:\\Users\\saras\\AppData\\Roaming\\nltk_data...\n",
      "[nltk_data]    |   Package wmt15_eval is already up-to-date!\n",
      "[nltk_data]    | Downloading package word2vec_sample to\n",
      "[nltk_data]    |     C:\\Users\\saras\\AppData\\Roaming\\nltk_data...\n",
      "[nltk_data]    |   Package word2vec_sample is already up-to-date!\n",
      "[nltk_data]    | Downloading package wordnet to\n",
      "[nltk_data]    |     C:\\Users\\saras\\AppData\\Roaming\\nltk_data...\n",
      "[nltk_data]    |   Package wordnet is already up-to-date!\n",
      "[nltk_data]    | Downloading package wordnet2021 to\n",
      "[nltk_data]    |     C:\\Users\\saras\\AppData\\Roaming\\nltk_data...\n",
      "[nltk_data]    |   Package wordnet2021 is already up-to-date!\n",
      "[nltk_data]    | Downloading package wordnet2022 to\n",
      "[nltk_data]    |     C:\\Users\\saras\\AppData\\Roaming\\nltk_data...\n",
      "[nltk_data]    |   Package wordnet2022 is already up-to-date!\n",
      "[nltk_data]    | Downloading package wordnet31 to\n",
      "[nltk_data]    |     C:\\Users\\saras\\AppData\\Roaming\\nltk_data...\n",
      "[nltk_data]    |   Package wordnet31 is already up-to-date!\n",
      "[nltk_data]    | Downloading package wordnet_ic to\n",
      "[nltk_data]    |     C:\\Users\\saras\\AppData\\Roaming\\nltk_data...\n",
      "[nltk_data]    |   Package wordnet_ic is already up-to-date!\n",
      "[nltk_data]    | Downloading package words to\n",
      "[nltk_data]    |     C:\\Users\\saras\\AppData\\Roaming\\nltk_data...\n",
      "[nltk_data]    |   Package words is already up-to-date!\n",
      "[nltk_data]    | Downloading package ycoe to\n",
      "[nltk_data]    |     C:\\Users\\saras\\AppData\\Roaming\\nltk_data...\n",
      "[nltk_data]    |   Package ycoe is already up-to-date!\n",
      "[nltk_data]    | \n",
      "[nltk_data]  Done downloading collection all\n"
     ]
    },
    {
     "data": {
      "text/plain": [
       "True"
      ]
     },
     "execution_count": 3,
     "metadata": {},
     "output_type": "execute_result"
    }
   ],
   "source": [
    "## download all nltk packages\n",
    "nltk.download('all')\n"
   ]
  },
  {
   "cell_type": "markdown",
   "metadata": {},
   "source": [
    "### EDA"
   ]
  },
  {
   "cell_type": "code",
   "execution_count": 4,
   "metadata": {
    "execution": {
     "iopub.execute_input": "2023-04-09T18:41:33.246300Z",
     "iopub.status.busy": "2023-04-09T18:41:33.245920Z",
     "iopub.status.idle": "2023-04-09T18:41:33.272269Z",
     "shell.execute_reply": "2023-04-09T18:41:33.271099Z",
     "shell.execute_reply.started": "2023-04-09T18:41:33.246264Z"
    }
   },
   "outputs": [
    {
     "data": {
      "text/html": [
       "<div>\n",
       "<style scoped>\n",
       "    .dataframe tbody tr th:only-of-type {\n",
       "        vertical-align: middle;\n",
       "    }\n",
       "\n",
       "    .dataframe tbody tr th {\n",
       "        vertical-align: top;\n",
       "    }\n",
       "\n",
       "    .dataframe thead th {\n",
       "        text-align: right;\n",
       "    }\n",
       "</style>\n",
       "<table border=\"1\" class=\"dataframe\">\n",
       "  <thead>\n",
       "    <tr style=\"text-align: right;\">\n",
       "      <th></th>\n",
       "      <th>uniqueID</th>\n",
       "      <th>drugName</th>\n",
       "      <th>condition</th>\n",
       "      <th>review</th>\n",
       "      <th>rating</th>\n",
       "      <th>date</th>\n",
       "      <th>usefulCount</th>\n",
       "    </tr>\n",
       "  </thead>\n",
       "  <tbody>\n",
       "    <tr>\n",
       "      <th>0</th>\n",
       "      <td>206461</td>\n",
       "      <td>Valsartan</td>\n",
       "      <td>Left Ventricular Dysfunction</td>\n",
       "      <td>\"It has no side effect, I take it in combinati...</td>\n",
       "      <td>9</td>\n",
       "      <td>2012-05-20</td>\n",
       "      <td>27</td>\n",
       "    </tr>\n",
       "    <tr>\n",
       "      <th>1</th>\n",
       "      <td>95260</td>\n",
       "      <td>Guanfacine</td>\n",
       "      <td>ADHD</td>\n",
       "      <td>\"My son is halfway through his fourth week of ...</td>\n",
       "      <td>8</td>\n",
       "      <td>2010-04-27</td>\n",
       "      <td>192</td>\n",
       "    </tr>\n",
       "    <tr>\n",
       "      <th>2</th>\n",
       "      <td>92703</td>\n",
       "      <td>Lybrel</td>\n",
       "      <td>Birth Control</td>\n",
       "      <td>\"I used to take another oral contraceptive, wh...</td>\n",
       "      <td>5</td>\n",
       "      <td>2009-12-14</td>\n",
       "      <td>17</td>\n",
       "    </tr>\n",
       "    <tr>\n",
       "      <th>3</th>\n",
       "      <td>138000</td>\n",
       "      <td>Ortho Evra</td>\n",
       "      <td>Birth Control</td>\n",
       "      <td>\"This is my first time using any form of birth...</td>\n",
       "      <td>8</td>\n",
       "      <td>2015-11-03</td>\n",
       "      <td>10</td>\n",
       "    </tr>\n",
       "    <tr>\n",
       "      <th>4</th>\n",
       "      <td>35696</td>\n",
       "      <td>Buprenorphine / naloxone</td>\n",
       "      <td>Opiate Dependence</td>\n",
       "      <td>\"Suboxone has completely turned my life around...</td>\n",
       "      <td>9</td>\n",
       "      <td>2016-11-27</td>\n",
       "      <td>37</td>\n",
       "    </tr>\n",
       "  </tbody>\n",
       "</table>\n",
       "</div>"
      ],
      "text/plain": [
       "   uniqueID                  drugName                     condition  \\\n",
       "0    206461                 Valsartan  Left Ventricular Dysfunction   \n",
       "1     95260                Guanfacine                          ADHD   \n",
       "2     92703                    Lybrel                 Birth Control   \n",
       "3    138000                Ortho Evra                 Birth Control   \n",
       "4     35696  Buprenorphine / naloxone             Opiate Dependence   \n",
       "\n",
       "                                              review  rating       date  \\\n",
       "0  \"It has no side effect, I take it in combinati...       9 2012-05-20   \n",
       "1  \"My son is halfway through his fourth week of ...       8 2010-04-27   \n",
       "2  \"I used to take another oral contraceptive, wh...       5 2009-12-14   \n",
       "3  \"This is my first time using any form of birth...       8 2015-11-03   \n",
       "4  \"Suboxone has completely turned my life around...       9 2016-11-27   \n",
       "\n",
       "   usefulCount  \n",
       "0           27  \n",
       "1          192  \n",
       "2           17  \n",
       "3           10  \n",
       "4           37  "
      ]
     },
     "execution_count": 4,
     "metadata": {},
     "output_type": "execute_result"
    }
   ],
   "source": [
    "# Top 5 rows\n",
    "train_df.head()"
   ]
  },
  {
   "cell_type": "code",
   "execution_count": 5,
   "metadata": {
    "execution": {
     "iopub.execute_input": "2023-04-09T18:41:33.973518Z",
     "iopub.status.busy": "2023-04-09T18:41:33.973138Z",
     "iopub.status.idle": "2023-04-09T18:41:33.987237Z",
     "shell.execute_reply": "2023-04-09T18:41:33.986436Z",
     "shell.execute_reply.started": "2023-04-09T18:41:33.973479Z"
    }
   },
   "outputs": [
    {
     "data": {
      "text/html": [
       "<div>\n",
       "<style scoped>\n",
       "    .dataframe tbody tr th:only-of-type {\n",
       "        vertical-align: middle;\n",
       "    }\n",
       "\n",
       "    .dataframe tbody tr th {\n",
       "        vertical-align: top;\n",
       "    }\n",
       "\n",
       "    .dataframe thead th {\n",
       "        text-align: right;\n",
       "    }\n",
       "</style>\n",
       "<table border=\"1\" class=\"dataframe\">\n",
       "  <thead>\n",
       "    <tr style=\"text-align: right;\">\n",
       "      <th></th>\n",
       "      <th>uniqueID</th>\n",
       "      <th>drugName</th>\n",
       "      <th>condition</th>\n",
       "      <th>review</th>\n",
       "      <th>rating</th>\n",
       "      <th>date</th>\n",
       "      <th>usefulCount</th>\n",
       "    </tr>\n",
       "  </thead>\n",
       "  <tbody>\n",
       "    <tr>\n",
       "      <th>0</th>\n",
       "      <td>163740</td>\n",
       "      <td>Mirtazapine</td>\n",
       "      <td>Depression</td>\n",
       "      <td>\"I&amp;#039;ve tried a few antidepressants over th...</td>\n",
       "      <td>10</td>\n",
       "      <td>2012-02-28</td>\n",
       "      <td>22</td>\n",
       "    </tr>\n",
       "    <tr>\n",
       "      <th>1</th>\n",
       "      <td>206473</td>\n",
       "      <td>Mesalamine</td>\n",
       "      <td>Crohn's Disease, Maintenance</td>\n",
       "      <td>\"My son has Crohn&amp;#039;s disease and has done ...</td>\n",
       "      <td>8</td>\n",
       "      <td>2009-05-17</td>\n",
       "      <td>17</td>\n",
       "    </tr>\n",
       "    <tr>\n",
       "      <th>2</th>\n",
       "      <td>159672</td>\n",
       "      <td>Bactrim</td>\n",
       "      <td>Urinary Tract Infection</td>\n",
       "      <td>\"Quick reduction of symptoms\"</td>\n",
       "      <td>9</td>\n",
       "      <td>2017-09-29</td>\n",
       "      <td>3</td>\n",
       "    </tr>\n",
       "    <tr>\n",
       "      <th>3</th>\n",
       "      <td>39293</td>\n",
       "      <td>Contrave</td>\n",
       "      <td>Weight Loss</td>\n",
       "      <td>\"Contrave combines drugs that were used for al...</td>\n",
       "      <td>9</td>\n",
       "      <td>2017-03-05</td>\n",
       "      <td>35</td>\n",
       "    </tr>\n",
       "    <tr>\n",
       "      <th>4</th>\n",
       "      <td>97768</td>\n",
       "      <td>Cyclafem 1 / 35</td>\n",
       "      <td>Birth Control</td>\n",
       "      <td>\"I have been on this birth control for one cyc...</td>\n",
       "      <td>9</td>\n",
       "      <td>2015-10-22</td>\n",
       "      <td>4</td>\n",
       "    </tr>\n",
       "  </tbody>\n",
       "</table>\n",
       "</div>"
      ],
      "text/plain": [
       "   uniqueID         drugName                     condition  \\\n",
       "0    163740      Mirtazapine                    Depression   \n",
       "1    206473       Mesalamine  Crohn's Disease, Maintenance   \n",
       "2    159672          Bactrim       Urinary Tract Infection   \n",
       "3     39293         Contrave                   Weight Loss   \n",
       "4     97768  Cyclafem 1 / 35                 Birth Control   \n",
       "\n",
       "                                              review  rating       date  \\\n",
       "0  \"I&#039;ve tried a few antidepressants over th...      10 2012-02-28   \n",
       "1  \"My son has Crohn&#039;s disease and has done ...       8 2009-05-17   \n",
       "2                      \"Quick reduction of symptoms\"       9 2017-09-29   \n",
       "3  \"Contrave combines drugs that were used for al...       9 2017-03-05   \n",
       "4  \"I have been on this birth control for one cyc...       9 2015-10-22   \n",
       "\n",
       "   usefulCount  \n",
       "0           22  \n",
       "1           17  \n",
       "2            3  \n",
       "3           35  \n",
       "4            4  "
      ]
     },
     "execution_count": 5,
     "metadata": {},
     "output_type": "execute_result"
    }
   ],
   "source": [
    "test_df.head()"
   ]
  },
  {
   "cell_type": "code",
   "execution_count": 6,
   "metadata": {
    "execution": {
     "iopub.execute_input": "2023-04-08T22:35:28.721803Z",
     "iopub.status.busy": "2023-04-08T22:35:28.721423Z",
     "iopub.status.idle": "2023-04-08T22:35:28.735314Z",
     "shell.execute_reply": "2023-04-08T22:35:28.734140Z",
     "shell.execute_reply.started": "2023-04-08T22:35:28.721751Z"
    }
   },
   "outputs": [
    {
     "data": {
      "text/html": [
       "<div>\n",
       "<style scoped>\n",
       "    .dataframe tbody tr th:only-of-type {\n",
       "        vertical-align: middle;\n",
       "    }\n",
       "\n",
       "    .dataframe tbody tr th {\n",
       "        vertical-align: top;\n",
       "    }\n",
       "\n",
       "    .dataframe thead th {\n",
       "        text-align: right;\n",
       "    }\n",
       "</style>\n",
       "<table border=\"1\" class=\"dataframe\">\n",
       "  <thead>\n",
       "    <tr style=\"text-align: right;\">\n",
       "      <th></th>\n",
       "      <th>uniqueID</th>\n",
       "      <th>drugName</th>\n",
       "      <th>condition</th>\n",
       "      <th>review</th>\n",
       "      <th>rating</th>\n",
       "      <th>date</th>\n",
       "      <th>usefulCount</th>\n",
       "    </tr>\n",
       "  </thead>\n",
       "  <tbody>\n",
       "    <tr>\n",
       "      <th>161292</th>\n",
       "      <td>191035</td>\n",
       "      <td>Campral</td>\n",
       "      <td>Alcohol Dependence</td>\n",
       "      <td>\"I wrote my first report in Mid-October of 201...</td>\n",
       "      <td>10</td>\n",
       "      <td>2015-05-31</td>\n",
       "      <td>125</td>\n",
       "    </tr>\n",
       "    <tr>\n",
       "      <th>161293</th>\n",
       "      <td>127085</td>\n",
       "      <td>Metoclopramide</td>\n",
       "      <td>Nausea/Vomiting</td>\n",
       "      <td>\"I was given this in IV before surgey. I immed...</td>\n",
       "      <td>1</td>\n",
       "      <td>2011-11-01</td>\n",
       "      <td>34</td>\n",
       "    </tr>\n",
       "    <tr>\n",
       "      <th>161294</th>\n",
       "      <td>187382</td>\n",
       "      <td>Orencia</td>\n",
       "      <td>Rheumatoid Arthritis</td>\n",
       "      <td>\"Limited improvement after 4 months, developed...</td>\n",
       "      <td>2</td>\n",
       "      <td>2014-03-15</td>\n",
       "      <td>35</td>\n",
       "    </tr>\n",
       "    <tr>\n",
       "      <th>161295</th>\n",
       "      <td>47128</td>\n",
       "      <td>Thyroid desiccated</td>\n",
       "      <td>Underactive Thyroid</td>\n",
       "      <td>\"I&amp;#039;ve been on thyroid medication 49 years...</td>\n",
       "      <td>10</td>\n",
       "      <td>2015-09-19</td>\n",
       "      <td>79</td>\n",
       "    </tr>\n",
       "    <tr>\n",
       "      <th>161296</th>\n",
       "      <td>215220</td>\n",
       "      <td>Lubiprostone</td>\n",
       "      <td>Constipation, Chronic</td>\n",
       "      <td>\"I&amp;#039;ve had chronic constipation all my adu...</td>\n",
       "      <td>9</td>\n",
       "      <td>2014-12-13</td>\n",
       "      <td>116</td>\n",
       "    </tr>\n",
       "  </tbody>\n",
       "</table>\n",
       "</div>"
      ],
      "text/plain": [
       "        uniqueID            drugName              condition  \\\n",
       "161292    191035             Campral     Alcohol Dependence   \n",
       "161293    127085      Metoclopramide        Nausea/Vomiting   \n",
       "161294    187382             Orencia   Rheumatoid Arthritis   \n",
       "161295     47128  Thyroid desiccated    Underactive Thyroid   \n",
       "161296    215220        Lubiprostone  Constipation, Chronic   \n",
       "\n",
       "                                                   review  rating       date  \\\n",
       "161292  \"I wrote my first report in Mid-October of 201...      10 2015-05-31   \n",
       "161293  \"I was given this in IV before surgey. I immed...       1 2011-11-01   \n",
       "161294  \"Limited improvement after 4 months, developed...       2 2014-03-15   \n",
       "161295  \"I&#039;ve been on thyroid medication 49 years...      10 2015-09-19   \n",
       "161296  \"I&#039;ve had chronic constipation all my adu...       9 2014-12-13   \n",
       "\n",
       "        usefulCount  \n",
       "161292          125  \n",
       "161293           34  \n",
       "161294           35  \n",
       "161295           79  \n",
       "161296          116  "
      ]
     },
     "execution_count": 6,
     "metadata": {},
     "output_type": "execute_result"
    }
   ],
   "source": [
    "# last five rows\n",
    "train_df.tail()"
   ]
  },
  {
   "cell_type": "code",
   "execution_count": 7,
   "metadata": {
    "execution": {
     "iopub.execute_input": "2023-04-08T22:31:27.746667Z",
     "iopub.status.busy": "2023-04-08T22:31:27.746128Z",
     "iopub.status.idle": "2023-04-08T22:31:27.811479Z",
     "shell.execute_reply": "2023-04-08T22:31:27.810192Z",
     "shell.execute_reply.started": "2023-04-08T22:31:27.746615Z"
    }
   },
   "outputs": [
    {
     "data": {
      "text/plain": [
       "uniqueID         0\n",
       "drugName         0\n",
       "condition      899\n",
       "review           0\n",
       "rating           0\n",
       "date             0\n",
       "usefulCount      0\n",
       "dtype: int64"
      ]
     },
     "execution_count": 7,
     "metadata": {},
     "output_type": "execute_result"
    }
   ],
   "source": [
    "## Missing values \n",
    "train_df.isnull().sum()"
   ]
  },
  {
   "cell_type": "code",
   "execution_count": 8,
   "metadata": {
    "execution": {
     "iopub.execute_input": "2023-04-08T22:32:52.432511Z",
     "iopub.status.busy": "2023-04-08T22:32:52.432000Z",
     "iopub.status.idle": "2023-04-08T22:32:52.479462Z",
     "shell.execute_reply": "2023-04-08T22:32:52.478006Z",
     "shell.execute_reply.started": "2023-04-08T22:32:52.432460Z"
    }
   },
   "outputs": [
    {
     "data": {
      "text/html": [
       "<div>\n",
       "<style scoped>\n",
       "    .dataframe tbody tr th:only-of-type {\n",
       "        vertical-align: middle;\n",
       "    }\n",
       "\n",
       "    .dataframe tbody tr th {\n",
       "        vertical-align: top;\n",
       "    }\n",
       "\n",
       "    .dataframe thead th {\n",
       "        text-align: right;\n",
       "    }\n",
       "</style>\n",
       "<table border=\"1\" class=\"dataframe\">\n",
       "  <thead>\n",
       "    <tr style=\"text-align: right;\">\n",
       "      <th></th>\n",
       "      <th>uniqueID</th>\n",
       "      <th>rating</th>\n",
       "      <th>usefulCount</th>\n",
       "    </tr>\n",
       "  </thead>\n",
       "  <tbody>\n",
       "    <tr>\n",
       "      <th>count</th>\n",
       "      <td>161297.000000</td>\n",
       "      <td>161297.000000</td>\n",
       "      <td>161297.000000</td>\n",
       "    </tr>\n",
       "    <tr>\n",
       "      <th>mean</th>\n",
       "      <td>115923.585305</td>\n",
       "      <td>6.994377</td>\n",
       "      <td>28.004755</td>\n",
       "    </tr>\n",
       "    <tr>\n",
       "      <th>std</th>\n",
       "      <td>67004.445170</td>\n",
       "      <td>3.272329</td>\n",
       "      <td>36.403742</td>\n",
       "    </tr>\n",
       "    <tr>\n",
       "      <th>min</th>\n",
       "      <td>2.000000</td>\n",
       "      <td>1.000000</td>\n",
       "      <td>0.000000</td>\n",
       "    </tr>\n",
       "    <tr>\n",
       "      <th>25%</th>\n",
       "      <td>58063.000000</td>\n",
       "      <td>5.000000</td>\n",
       "      <td>6.000000</td>\n",
       "    </tr>\n",
       "    <tr>\n",
       "      <th>50%</th>\n",
       "      <td>115744.000000</td>\n",
       "      <td>8.000000</td>\n",
       "      <td>16.000000</td>\n",
       "    </tr>\n",
       "    <tr>\n",
       "      <th>75%</th>\n",
       "      <td>173776.000000</td>\n",
       "      <td>10.000000</td>\n",
       "      <td>36.000000</td>\n",
       "    </tr>\n",
       "    <tr>\n",
       "      <th>max</th>\n",
       "      <td>232291.000000</td>\n",
       "      <td>10.000000</td>\n",
       "      <td>1291.000000</td>\n",
       "    </tr>\n",
       "  </tbody>\n",
       "</table>\n",
       "</div>"
      ],
      "text/plain": [
       "            uniqueID         rating    usefulCount\n",
       "count  161297.000000  161297.000000  161297.000000\n",
       "mean   115923.585305       6.994377      28.004755\n",
       "std     67004.445170       3.272329      36.403742\n",
       "min         2.000000       1.000000       0.000000\n",
       "25%     58063.000000       5.000000       6.000000\n",
       "50%    115744.000000       8.000000      16.000000\n",
       "75%    173776.000000      10.000000      36.000000\n",
       "max    232291.000000      10.000000    1291.000000"
      ]
     },
     "execution_count": 8,
     "metadata": {},
     "output_type": "execute_result"
    }
   ],
   "source": [
    "# Summary Stats\n",
    "train_df.describe()"
   ]
  },
  {
   "cell_type": "code",
   "execution_count": 9,
   "metadata": {
    "execution": {
     "iopub.execute_input": "2023-04-08T22:33:06.740027Z",
     "iopub.status.busy": "2023-04-08T22:33:06.739622Z",
     "iopub.status.idle": "2023-04-08T22:33:06.802673Z",
     "shell.execute_reply": "2023-04-08T22:33:06.801549Z",
     "shell.execute_reply.started": "2023-04-08T22:33:06.739988Z"
    }
   },
   "outputs": [
    {
     "name": "stdout",
     "output_type": "stream",
     "text": [
      "<class 'pandas.core.frame.DataFrame'>\n",
      "RangeIndex: 161297 entries, 0 to 161296\n",
      "Data columns (total 7 columns):\n",
      " #   Column       Non-Null Count   Dtype         \n",
      "---  ------       --------------   -----         \n",
      " 0   uniqueID     161297 non-null  int64         \n",
      " 1   drugName     161297 non-null  object        \n",
      " 2   condition    160398 non-null  object        \n",
      " 3   review       161297 non-null  object        \n",
      " 4   rating       161297 non-null  int64         \n",
      " 5   date         161297 non-null  datetime64[ns]\n",
      " 6   usefulCount  161297 non-null  int64         \n",
      "dtypes: datetime64[ns](1), int64(3), object(3)\n",
      "memory usage: 8.6+ MB\n"
     ]
    }
   ],
   "source": [
    "\n",
    "train_df.info()"
   ]
  },
  {
   "cell_type": "code",
   "execution_count": 10,
   "metadata": {
    "execution": {
     "iopub.execute_input": "2023-04-08T22:34:23.721116Z",
     "iopub.status.busy": "2023-04-08T22:34:23.719742Z",
     "iopub.status.idle": "2023-04-08T22:34:23.748197Z",
     "shell.execute_reply": "2023-04-08T22:34:23.746040Z",
     "shell.execute_reply.started": "2023-04-08T22:34:23.721058Z"
    }
   },
   "outputs": [
    {
     "data": {
      "text/plain": [
       "3436"
      ]
     },
     "execution_count": 10,
     "metadata": {},
     "output_type": "execute_result"
    }
   ],
   "source": [
    "#no of drugs\n",
    "train_df.drugName.nunique()"
   ]
  },
  {
   "cell_type": "code",
   "execution_count": 11,
   "metadata": {
    "execution": {
     "iopub.execute_input": "2023-04-08T22:37:08.775162Z",
     "iopub.status.busy": "2023-04-08T22:37:08.774727Z",
     "iopub.status.idle": "2023-04-08T22:37:08.795921Z",
     "shell.execute_reply": "2023-04-08T22:37:08.794853Z",
     "shell.execute_reply.started": "2023-04-08T22:37:08.775121Z"
    }
   },
   "outputs": [
    {
     "data": {
      "text/plain": [
       "Levonorgestrel                        3657\n",
       "Etonogestrel                          3336\n",
       "Ethinyl estradiol / norethindrone     2850\n",
       "Nexplanon                             2156\n",
       "Ethinyl estradiol / norgestimate      2117\n",
       "Ethinyl estradiol / levonorgestrel    1888\n",
       "Phentermine                           1543\n",
       "Sertraline                            1360\n",
       "Escitalopram                          1292\n",
       "Mirena                                1242\n",
       "Name: drugName, dtype: int64"
      ]
     },
     "execution_count": 11,
     "metadata": {},
     "output_type": "execute_result"
    }
   ],
   "source": [
    "## Most popular drug\n",
    "train_df.drugName.value_counts().nlargest(10)"
   ]
  },
  {
   "cell_type": "code",
   "execution_count": 12,
   "metadata": {
    "execution": {
     "iopub.execute_input": "2023-04-08T22:44:22.029378Z",
     "iopub.status.busy": "2023-04-08T22:44:22.028975Z",
     "iopub.status.idle": "2023-04-08T22:44:22.045618Z",
     "shell.execute_reply": "2023-04-08T22:44:22.044172Z",
     "shell.execute_reply.started": "2023-04-08T22:44:22.029339Z"
    }
   },
   "outputs": [
    {
     "data": {
      "text/plain": [
       "884"
      ]
     },
     "execution_count": 12,
     "metadata": {},
     "output_type": "execute_result"
    }
   ],
   "source": [
    "#no of patient conditions\n",
    "train_df.condition.nunique()"
   ]
  },
  {
   "cell_type": "code",
   "execution_count": 13,
   "metadata": {
    "execution": {
     "iopub.execute_input": "2023-04-08T22:44:54.758423Z",
     "iopub.status.busy": "2023-04-08T22:44:54.758002Z",
     "iopub.status.idle": "2023-04-08T22:44:54.780094Z",
     "shell.execute_reply": "2023-04-08T22:44:54.778825Z",
     "shell.execute_reply.started": "2023-04-08T22:44:54.758385Z"
    }
   },
   "outputs": [
    {
     "data": {
      "text/plain": [
       "Birth Control      28788\n",
       "Depression          9069\n",
       "Pain                6145\n",
       "Anxiety             5904\n",
       "Acne                5588\n",
       "Bipolar Disorde     4224\n",
       "Insomnia            3673\n",
       "Weight Loss         3609\n",
       "Obesity             3568\n",
       "ADHD                3383\n",
       "Name: condition, dtype: int64"
      ]
     },
     "execution_count": 13,
     "metadata": {},
     "output_type": "execute_result"
    }
   ],
   "source": [
    "train_df.condition.value_counts().nlargest(10)"
   ]
  },
  {
   "cell_type": "code",
   "execution_count": 14,
   "metadata": {
    "execution": {
     "iopub.execute_input": "2023-04-08T22:47:37.617425Z",
     "iopub.status.busy": "2023-04-08T22:47:37.617013Z",
     "iopub.status.idle": "2023-04-08T22:47:37.678727Z",
     "shell.execute_reply": "2023-04-08T22:47:37.677718Z",
     "shell.execute_reply.started": "2023-04-08T22:47:37.617385Z"
    }
   },
   "outputs": [
    {
     "data": {
      "text/plain": [
       "condition\n",
       "Not Listed / Othe       214\n",
       "Pain                    200\n",
       "Birth Control           172\n",
       "High Blood Pressure     140\n",
       "Acne                    117\n",
       "Depression              105\n",
       "Rheumatoid Arthritis     98\n",
       "Diabetes, Type 2         89\n",
       "Allergic Rhinitis        88\n",
       "Bipolar Disorde          80\n",
       "Name: drugName, dtype: int64"
      ]
     },
     "execution_count": 14,
     "metadata": {},
     "output_type": "execute_result"
    }
   ],
   "source": [
    "train_df.groupby('condition')['drugName'].nunique().nlargest(10)"
   ]
  },
  {
   "cell_type": "code",
   "execution_count": 15,
   "metadata": {
    "execution": {
     "iopub.execute_input": "2023-04-08T23:29:40.464555Z",
     "iopub.status.busy": "2023-04-08T23:29:40.464114Z",
     "iopub.status.idle": "2023-04-08T23:29:40.477364Z",
     "shell.execute_reply": "2023-04-08T23:29:40.475875Z",
     "shell.execute_reply.started": "2023-04-08T23:29:40.464512Z"
    }
   },
   "outputs": [
    {
     "data": {
      "text/plain": [
       "rating\n",
       "1     21619\n",
       "2      6931\n",
       "3      6513\n",
       "4      5012\n",
       "5      8013\n",
       "6      6343\n",
       "7      9456\n",
       "8     18890\n",
       "9     27531\n",
       "10    50989\n",
       "Name: uniqueID, dtype: int64"
      ]
     },
     "execution_count": 15,
     "metadata": {},
     "output_type": "execute_result"
    }
   ],
   "source": [
    "train_df.groupby('rating')['uniqueID'].count()"
   ]
  },
  {
   "cell_type": "code",
   "execution_count": 3,
   "metadata": {},
   "outputs": [
    {
     "data": {
      "image/png": "[encoded data removed]",
      "text/plain": [
       "<Figure size 640x480 with 1 Axes>"
      ]
     },
     "metadata": {},
     "output_type": "display_data"
    }
   ],
   "source": [
    "#Identify outliers using boxplot\n",
    "train_df[['rating','usefulCount']].plot(kind='box')\n",
    "plt.title('Outliers')\n",
    "plt.show()"
   ]
  },
  {
   "cell_type": "code",
   "execution_count": 4,
   "metadata": {},
   "outputs": [
    {
     "name": "stderr",
     "output_type": "stream",
     "text": [
      "C:\\Users\\saras\\anaconda3\\lib\\site-packages\\seaborn\\_decorators.py:36: FutureWarning: Pass the following variable as a keyword arg: x. From version 0.12, the only valid positional argument will be `data`, and passing other arguments without an explicit keyword will result in an error or misinterpretation.\n",
      "  warnings.warn(\n"
     ]
    },
    {
     "data": {
      "image/png": "[encoded data removed]",
      "text/plain": [
       "<Figure size 1500x800 with 1 Axes>"
      ]
     },
     "metadata": {},
     "output_type": "display_data"
    }
   ],
   "source": [
    "train_df['date'] = pd.to_datetime(train_df['date'], errors = 'coerce')\n",
    "\n",
    "# now extracting year from date\n",
    "train_df['Year'] = train_df['date'].dt.year\n",
    "\n",
    "# extracting the month from the date\n",
    "train_df['month'] = train_df['date'].dt.month\n",
    "\n",
    "# extracting the days from the date\n",
    "train_df['day'] = train_df['date'].dt.day \n",
    "\n",
    "plt.rcParams['figure.figsize'] = (15, 8)\n",
    "sns.countplot(train_df['Year'], color ='green')\n",
    "plt.title('Number of Reviews by Year', fontsize = 15)\n",
    "plt.xlabel('Year')\n",
    "plt.ylabel('Count of Reviews')\n",
    "plt.show()"
   ]
  },
  {
   "cell_type": "code",
   "execution_count": 16,
   "metadata": {
    "execution": {
     "iopub.execute_input": "2023-04-09T22:25:50.397293Z",
     "iopub.status.busy": "2023-04-09T22:25:50.396735Z",
     "iopub.status.idle": "2023-04-09T22:25:50.407908Z",
     "shell.execute_reply": "2023-04-09T22:25:50.406718Z",
     "shell.execute_reply.started": "2023-04-09T22:25:50.397258Z"
    }
   },
   "outputs": [],
   "source": [
    "#For the project, we are going to categorise the reviews as positive, negative and neutral\n",
    "#Any drug with a rating from 8-10 is considered to have a positive review\n",
    "#Any drug with a rating between 5-8 (exclusive) is considered to have a neutral review\n",
    "#Any drug with a rating between 1-5 (exclusive) is considered to have a negative review\n",
    "#The label column will have 0 for negative, 1 for neutral and 2 for positive\n",
    "\n",
    "ratings = train_df['rating'].values\n",
    "train_df['labels'] = 1.0*(ratings >= 8) + 1.0*(ratings >= 5)"
   ]
  },
  {
   "cell_type": "code",
   "execution_count": 17,
   "metadata": {
    "execution": {
     "iopub.execute_input": "2023-04-09T22:25:50.409455Z",
     "iopub.status.busy": "2023-04-09T22:25:50.409135Z",
     "iopub.status.idle": "2023-04-09T22:25:50.418318Z",
     "shell.execute_reply": "2023-04-09T22:25:50.417165Z",
     "shell.execute_reply.started": "2023-04-09T22:25:50.409411Z"
    }
   },
   "outputs": [],
   "source": [
    "ratings = test_df['rating'].values\n",
    "test_df['labels'] = 1.0*(ratings >= 8) + 1.0*(ratings >= 5)"
   ]
  },
  {
   "cell_type": "code",
   "execution_count": 18,
   "metadata": {
    "execution": {
     "iopub.execute_input": "2023-04-09T22:25:50.421672Z",
     "iopub.status.busy": "2023-04-09T22:25:50.421230Z",
     "iopub.status.idle": "2023-04-09T22:25:50.445799Z",
     "shell.execute_reply": "2023-04-09T22:25:50.443729Z",
     "shell.execute_reply.started": "2023-04-09T22:25:50.421633Z"
    }
   },
   "outputs": [
    {
     "data": {
      "text/plain": [
       "2.0    97410\n",
       "0.0    40075\n",
       "1.0    23812\n",
       "Name: labels, dtype: int64"
      ]
     },
     "execution_count": 18,
     "metadata": {},
     "output_type": "execute_result"
    }
   ],
   "source": [
    "train_df['labels'].value_counts()"
   ]
  },
  {
   "cell_type": "code",
   "execution_count": 19,
   "metadata": {
    "execution": {
     "iopub.execute_input": "2023-04-09T22:25:50.449030Z",
     "iopub.status.busy": "2023-04-09T22:25:50.448473Z",
     "iopub.status.idle": "2023-04-09T22:25:50.463929Z",
     "shell.execute_reply": "2023-04-09T22:25:50.462493Z",
     "shell.execute_reply.started": "2023-04-09T22:25:50.448982Z"
    }
   },
   "outputs": [
    {
     "data": {
      "text/plain": [
       "2.0    32349\n",
       "0.0    13497\n",
       "1.0     7920\n",
       "Name: labels, dtype: int64"
      ]
     },
     "execution_count": 19,
     "metadata": {},
     "output_type": "execute_result"
    }
   ],
   "source": [
    "test_df['labels'].value_counts()"
   ]
  },
  {
   "cell_type": "markdown",
   "metadata": {},
   "source": [
    "## Using Count vectorizer Unigram, Bigram as features and trained on MultinomialNB"
   ]
  },
  {
   "cell_type": "code",
   "execution_count": 20,
   "metadata": {
    "execution": {
     "iopub.execute_input": "2023-04-09T01:30:57.358493Z",
     "iopub.status.busy": "2023-04-09T01:30:57.357954Z"
    }
   },
   "outputs": [
    {
     "name": "stdout",
     "output_type": "stream",
     "text": [
      "Accuracy on test data: 0.8057966522008679\n",
      "Confusion matrix on test data:\n",
      " [[ 5518    15  2428]\n",
      " [  635  1485  2779]\n",
      " [  400     8 18992]]\n",
      "Accuracy on validation data: 0.7215898523230294\n",
      "Confusion matrix on validation data:\n",
      " [[ 6560     2  6935]\n",
      " [  879   268  6773]\n",
      " [  376     4 31969]]\n"
     ]
    }
   ],
   "source": [
    "import pandas as pd\n",
    "import nltk\n",
    "from nltk.corpus import stopwords\n",
    "from nltk.tokenize import word_tokenize\n",
    "from sklearn.model_selection import train_test_split\n",
    "from sklearn.feature_extraction.text import CountVectorizer\n",
    "from sklearn.naive_bayes import MultinomialNB\n",
    "from sklearn.metrics import accuracy_score, confusion_matrix\n",
    "\n",
    "# Load the dataset\n",
    "import pandas as pd\n",
    "import nltk\n",
    "from nltk.corpus import stopwords\n",
    "from nltk.tokenize import word_tokenize\n",
    "from sklearn.model_selection import train_test_split\n",
    "from sklearn.feature_extraction.text import CountVectorizer\n",
    "from sklearn.naive_bayes import MultinomialNB\n",
    "from sklearn.metrics import accuracy_score, confusion_matrix\n",
    "import string as st\n",
    "\n",
    "\n",
    "# Preprocess the data\n",
    "#All the stop words and punctuation marks are removed. Any upper case letters are converted to lower case to avoid \n",
    "#the creation of sparse vectors while vectorization\n",
    "stop_words = set(stopwords.words('english'))\n",
    "def preprocess(text):\n",
    "    words = word_tokenize(text.lower())\n",
    "    words = [word for word in words if word.isalpha() and word not in stop_words]\n",
    "    return ' '.join(words)\n",
    "\n",
    "\n",
    "#Applying the pre-process to the review column of train dataset\n",
    "train_df['review'] = train_df['review'].apply(preprocess)\n",
    "\n",
    "\n",
    "# Split the data into training and testing sets\n",
    "X_train, X_test, y_train, y_test = train_test_split(train_df['review'], train_df['labels'], test_size=0.2, random_state=42)\n",
    "\n",
    "# Extract features using Bag of Words\n",
    "#Counting the frequency of all words \n",
    "#We are setting the ngram range from 1 to 2 to get more semantic meaning for the vectors obtained\n",
    "vectorizer = CountVectorizer(ngram_range=(1, 2))\n",
    "X_train_vec = vectorizer.fit_transform(X_train)\n",
    "X_test_vec = vectorizer.transform(X_test)\n",
    "\n",
    "# Train the model\n",
    "# Naive Bayes - for more than 2 nominal cases \n",
    "model = MultinomialNB()\n",
    "model.fit(X_train_vec, y_train)\n",
    "\n",
    "# Test the model on the splitted test data\n",
    "y_pred = model.predict(X_test_vec)\n",
    "accuracy = accuracy_score(y_test, y_pred)\n",
    "confusion = confusion_matrix(y_test, y_pred)\n",
    "\n",
    "print('Accuracy on test data:', accuracy)\n",
    "print('Confusion matrix on test data:\\n', confusion)\n",
    "\n",
    "# validatng the model using the test_df dataset\n",
    " \n",
    "X_valid_vec = vectorizer.transform(test_df['review'])\n",
    "y_pred = model.predict(X_valid_vec)\n",
    "accuracy = accuracy_score(test_df['labels'], y_pred)\n",
    "confusion = confusion_matrix(test_df['labels'], y_pred)\n",
    "\n",
    "print('Accuracy on validation data:', accuracy)\n",
    "print('Confusion matrix on validation data:\\n', confusion)\n"
   ]
  },
  {
   "cell_type": "code",
   "execution_count": 21,
   "metadata": {
    "execution": {
     "iopub.execute_input": "2023-04-09T22:37:26.734461Z",
     "iopub.status.busy": "2023-04-09T22:37:26.733589Z",
     "iopub.status.idle": "2023-04-09T22:37:26.753516Z",
     "shell.execute_reply": "2023-04-09T22:37:26.751803Z",
     "shell.execute_reply.started": "2023-04-09T22:37:26.734392Z"
    }
   },
   "outputs": [
    {
     "name": "stdout",
     "output_type": "stream",
     "text": [
      "              precision    recall  f1-score   support\n",
      "\n",
      "         0.0       0.49      0.84      0.62      7815\n",
      "         1.0       0.03      0.98      0.07       274\n",
      "         2.0       0.99      0.70      0.82     45677\n",
      "\n",
      "    accuracy                           0.72     53766\n",
      "   macro avg       0.50      0.84      0.50     53766\n",
      "weighted avg       0.91      0.72      0.79     53766\n",
      "\n"
     ]
    }
   ],
   "source": [
    "# Calculate the classification report\n",
    "classification_rep = classification_report(y_pred, test_df['labels'])\n",
    "print(classification_rep)\n",
    "# 0: negative sentiment\n",
    "# 1: neutral sentiment\n",
    "# 2: positive sentiment"
   ]
  },
  {
   "cell_type": "markdown",
   "metadata": {},
   "source": [
    "## Using Count vectorizer Unigram, Bigram as features and trained on Logistic Regression\n"
   ]
  },
  {
   "cell_type": "code",
   "execution_count": 22,
   "metadata": {},
   "outputs": [
    {
     "name": "stdout",
     "output_type": "stream",
     "text": [
      "Accuracy on test data: 0.8620272783632982\n",
      "Confusion matrix on test data:\n",
      " [[ 6674   371   916]\n",
      " [  641  2827  1431]\n",
      " [  629   463 18308]]\n",
      "Accuracy on validation data: 0.8021054197820183\n",
      "Confusion matrix on validation data:\n",
      " [[10378   675  2444]\n",
      " [ 1575  2650  3695]\n",
      " [ 1459   792 30098]]\n"
     ]
    }
   ],
   "source": [
    "from sklearn.linear_model import LogisticRegression\n",
    "import warnings\n",
    "warnings.filterwarnings(\"ignore\")\n",
    "\n",
    "#Defining the Logistic regression model\n",
    "model= LogisticRegression()\n",
    "#Fitting the model on the vectorized data\n",
    "model.fit(X_train_vec, y_train)\n",
    "\n",
    "#Predicting on the splitted test data\n",
    "y_pred = model.predict(X_test_vec)\n",
    "accuracy = accuracy_score(y_test, y_pred)\n",
    "confusion = confusion_matrix(y_test, y_pred)\n",
    "\n",
    "print('Accuracy on test data:', accuracy)\n",
    "print('Confusion matrix on test data:\\n', confusion)\n",
    "\n",
    "# testing on the validation data set wiz test_df\n",
    "\n",
    "X_valid_vec = vectorizer.transform(test_df['review'])\n",
    "y_pred = model.predict(X_valid_vec)\n",
    "accuracy = accuracy_score(test_df['labels'], y_pred)\n",
    "confusion = confusion_matrix(test_df['labels'], y_pred)\n",
    "\n",
    "print('Accuracy on validation data:', accuracy)\n",
    "print('Confusion matrix on validation data:\\n', confusion)"
   ]
  },
  {
   "cell_type": "code",
   "execution_count": 23,
   "metadata": {},
   "outputs": [
    {
     "name": "stdout",
     "output_type": "stream",
     "text": [
      "              precision    recall  f1-score   support\n",
      "\n",
      "         0.0       0.77      0.77      0.77     13412\n",
      "         1.0       0.33      0.64      0.44      4117\n",
      "         2.0       0.93      0.83      0.88     36237\n",
      "\n",
      "    accuracy                           0.80     53766\n",
      "   macro avg       0.68      0.75      0.70     53766\n",
      "weighted avg       0.84      0.80      0.82     53766\n",
      "\n"
     ]
    }
   ],
   "source": [
    "classification_rep = classification_report(y_pred, test_df['labels'])\n",
    "print(classification_rep)"
   ]
  },
  {
   "cell_type": "markdown",
   "metadata": {},
   "source": [
    "## Using TFIDF Unigram, Bigram as features and trained on Logistic Regression"
   ]
  },
  {
   "cell_type": "code",
   "execution_count": 24,
   "metadata": {
    "execution": {
     "iopub.execute_input": "2023-04-09T22:25:50.466258Z",
     "iopub.status.busy": "2023-04-09T22:25:50.465763Z",
     "iopub.status.idle": "2023-04-09T22:26:43.409709Z",
     "shell.execute_reply": "2023-04-09T22:26:43.408389Z",
     "shell.execute_reply.started": "2023-04-09T22:25:50.466210Z"
    }
   },
   "outputs": [],
   "source": [
    "from sklearn.feature_extraction.text import TfidfVectorizer\n",
    "\n",
    "X_train, X_test, y_train, y_test = train_test_split(train_df['review'], train_df['labels'], test_size=0.2, random_state=42)\n",
    "\n",
    "#Using TF-IDF vectorizer to fit and transform the training and test set\n",
    "#ngram range from 1 to 2 for added semantic meaning to the vectors\n",
    "vectr = TfidfVectorizer(ngram_range=(1,2),min_df=1)\n",
    "vectr.fit(X_train)\n",
    "vect_X = vectr.transform(X_train)\n",
    "vect_X_test = vectorizer.transform(X_test)"
   ]
  },
  {
   "cell_type": "code",
   "execution_count": 25,
   "metadata": {
    "execution": {
     "iopub.execute_input": "2023-04-09T22:26:43.411481Z",
     "iopub.status.busy": "2023-04-09T22:26:43.411128Z",
     "iopub.status.idle": "2023-04-09T22:29:44.423444Z",
     "shell.execute_reply": "2023-04-09T22:29:44.422334Z",
     "shell.execute_reply.started": "2023-04-09T22:26:43.411447Z"
    }
   },
   "outputs": [],
   "source": [
    "#Defining the model\n",
    "model = LogisticRegression()\n",
    "#Fitting the model on the training data\n",
    "clf=model.fit(vect_X,y_train)"
   ]
  },
  {
   "cell_type": "code",
   "execution_count": 26,
   "metadata": {
    "execution": {
     "iopub.execute_input": "2023-04-09T22:29:44.425735Z",
     "iopub.status.busy": "2023-04-09T22:29:44.425166Z",
     "iopub.status.idle": "2023-04-09T22:29:44.845522Z",
     "shell.execute_reply": "2023-04-09T22:29:44.844379Z",
     "shell.execute_reply.started": "2023-04-09T22:29:44.425689Z"
    }
   },
   "outputs": [
    {
     "name": "stdout",
     "output_type": "stream",
     "text": [
      "Accuracy on testing data: 0.713794172349659\n",
      "Confusion matrix of testing data:\n",
      " [[ 4301  2588  1072]\n",
      " [  406  3222  1271]\n",
      " [  597  3299 15504]]\n"
     ]
    }
   ],
   "source": [
    "# Test the model on the splitted testing data\n",
    "y_pred = clf.predict(vect_X_test)\n",
    "accuracy = accuracy_score(y_test, y_pred)\n",
    "confusion = confusion_matrix(y_test, y_pred)\n",
    "\n",
    "print('Accuracy on testing data:', accuracy)\n",
    "print('Confusion matrix of testing data:\\n', confusion)"
   ]
  },
  {
   "cell_type": "code",
   "execution_count": 27,
   "metadata": {
    "execution": {
     "iopub.execute_input": "2023-04-09T22:29:44.847261Z",
     "iopub.status.busy": "2023-04-09T22:29:44.846900Z",
     "iopub.status.idle": "2023-04-09T22:29:45.004734Z",
     "shell.execute_reply": "2023-04-09T22:29:45.003290Z",
     "shell.execute_reply.started": "2023-04-09T22:29:44.847225Z"
    }
   },
   "outputs": [
    {
     "name": "stdout",
     "output_type": "stream",
     "text": [
      "Accuracy on validation set: 0.7719562548822676\n",
      "Confusion matrix of validation set:\n",
      " [[ 9452   899  3146]\n",
      " [ 1650  1939  4331]\n",
      " [ 1389   846 30114]]\n"
     ]
    }
   ],
   "source": [
    "\n",
    "# testing on the validation data set wiz test_df\n",
    "\n",
    "vect_valid_X= vectr.transform(test_df['review'])\n",
    "y_pred = clf.predict(vect_valid_X)\n",
    "accuracy = accuracy_score(test_df['labels'], y_pred)\n",
    "confusion = confusion_matrix(test_df['labels'], y_pred)\n",
    "\n",
    "print('Accuracy on validation set:', accuracy)\n",
    "print('Confusion matrix of validation set:\\n', confusion)\n"
   ]
  },
  {
   "cell_type": "code",
   "execution_count": 28,
   "metadata": {},
   "outputs": [
    {
     "name": "stdout",
     "output_type": "stream",
     "text": [
      "              precision    recall  f1-score   support\n",
      "\n",
      "         0.0       0.70      0.76      0.73     12491\n",
      "         1.0       0.24      0.53      0.33      3684\n",
      "         2.0       0.93      0.80      0.86     37591\n",
      "\n",
      "    accuracy                           0.77     53766\n",
      "   macro avg       0.63      0.69      0.64     53766\n",
      "weighted avg       0.83      0.77      0.79     53766\n",
      "\n"
     ]
    }
   ],
   "source": [
    "classification_rep = classification_report(y_pred, test_df['labels'])\n",
    "print(classification_rep)"
   ]
  },
  {
   "cell_type": "markdown",
   "metadata": {},
   "source": [
    "## Using TFIDF Unigram, Bigram as features and trained on MultinomialNB"
   ]
  },
  {
   "cell_type": "code",
   "execution_count": 29,
   "metadata": {
    "execution": {
     "iopub.execute_input": "2023-04-09T22:35:10.389459Z",
     "iopub.status.busy": "2023-04-09T22:35:10.388925Z",
     "iopub.status.idle": "2023-04-09T22:36:21.862330Z",
     "shell.execute_reply": "2023-04-09T22:36:21.860957Z",
     "shell.execute_reply.started": "2023-04-09T22:35:10.389392Z"
    }
   },
   "outputs": [
    {
     "name": "stdout",
     "output_type": "stream",
     "text": [
      "Accuracy on testing data: 0.6084004959702418\n",
      "Confusion matrix of testing data:\n",
      " [[  227     0  7734]\n",
      " [    7     0  4892]\n",
      " [    0     0 19400]]\n",
      "Accuracy on validation set: 0.6033552802886583\n",
      "Confusion matrix of validation set:\n",
      " [[   91     0 13406]\n",
      " [    1     0  7919]\n",
      " [    0     0 32349]]\n"
     ]
    }
   ],
   "source": [
    "\n",
    "# Define and train the model on the vectorized data\n",
    "model = MultinomialNB()\n",
    "clf=model.fit(vect_X,y_train)\n",
    "\n",
    "# Test the model on the splitted testing data\n",
    "y_pred = clf.predict(vect_X_test)\n",
    "accuracy = accuracy_score(y_test, y_pred)\n",
    "confusion = confusion_matrix(y_test, y_pred)\n",
    "\n",
    "print('Accuracy on testing data:', accuracy)\n",
    "print('Confusion matrix of testing data:\\n', confusion)\n",
    "\n",
    "# testing on the validation data set wiz test_df\n",
    "\n",
    "vect_valid_X= vectr.transform(test_df['review'])\n",
    "y_pred = clf.predict(vect_valid_X)\n",
    "accuracy = accuracy_score(test_df['labels'], y_pred)\n",
    "confusion = confusion_matrix(test_df['labels'], y_pred)\n",
    "\n",
    "print('Accuracy on validation set:', accuracy)\n",
    "print('Confusion matrix of validation set:\\n', confusion)\n"
   ]
  },
  {
   "cell_type": "code",
   "execution_count": 30,
   "metadata": {},
   "outputs": [
    {
     "name": "stdout",
     "output_type": "stream",
     "text": [
      "              precision    recall  f1-score   support\n",
      "\n",
      "         0.0       0.01      0.99      0.01        92\n",
      "         1.0       0.00      0.00      0.00         0\n",
      "         2.0       1.00      0.60      0.75     53674\n",
      "\n",
      "    accuracy                           0.60     53766\n",
      "   macro avg       0.34      0.53      0.26     53766\n",
      "weighted avg       1.00      0.60      0.75     53766\n",
      "\n"
     ]
    }
   ],
   "source": [
    "classification_rep = classification_report(y_pred, test_df['labels'])\n",
    "print(classification_rep)"
   ]
  },
  {
   "cell_type": "markdown",
   "metadata": {},
   "source": [
    "As the traditional algorithms are not giving any satisfactory result, we will be implementing a neural network and won't be ensembling the Logistic regression and MultinomialNB models"
   ]
  },
  {
   "cell_type": "markdown",
   "metadata": {},
   "source": [
    "## With Word embeddings"
   ]
  },
  {
   "cell_type": "code",
   "execution_count": 31,
   "metadata": {
    "execution": {
     "iopub.execute_input": "2023-04-09T18:39:47.541268Z",
     "iopub.status.busy": "2023-04-09T18:39:47.540883Z",
     "iopub.status.idle": "2023-04-09T18:39:55.400847Z",
     "shell.execute_reply": "2023-04-09T18:39:55.399797Z",
     "shell.execute_reply.started": "2023-04-09T18:39:47.541231Z"
    }
   },
   "outputs": [
    {
     "name": "stdout",
     "output_type": "stream",
     "text": [
      "tensorflow version: 2.12.0\n"
     ]
    }
   ],
   "source": [
    "# Neural network libraries\n",
    "import tensorflow as tf\n",
    "\n",
    "# Preprocessing utilities\n",
    "from sklearn.model_selection import train_test_split # preprocessing datasets\n",
    "from tensorflow.keras.preprocessing.text import Tokenizer # text preprocessing\n",
    "from tensorflow.keras.preprocessing.sequence import pad_sequences # text preprocessing\n",
    "from tensorflow.keras.utils import to_categorical # for one-hot-encoding\n",
    "\n",
    "# For modeling\n",
    "from tensorflow.keras.models import Model\n",
    "from tensorflow.keras.models import Sequential # modeling neural networks\n",
    "from tensorflow.keras.layers import Dense, Input, Activation, Embedding, Dropout\n",
    "from tensorflow.keras.layers import Conv1D, MaxPooling1D, GlobalMaxPooling1D, GlobalAveragePooling1D\n",
    "from tensorflow.keras.initializers import Constant\n",
    "\n",
    "# Final metrics\n",
    "from sklearn.metrics import confusion_matrix, classification_report, cohen_kappa_score\n",
    "\n",
    "# Operating system\n",
    "import os\n",
    "\n",
    "# Check the tensorflow version\n",
    "print('tensorflow version:', tf.__version__)"
   ]
  },
  {
   "cell_type": "code",
   "execution_count": 44,
   "metadata": {
    "execution": {
     "iopub.execute_input": "2023-04-09T18:41:55.683172Z",
     "iopub.status.busy": "2023-04-09T18:41:55.682763Z",
     "iopub.status.idle": "2023-04-09T18:44:02.231344Z",
     "shell.execute_reply": "2023-04-09T18:44:02.230154Z",
     "shell.execute_reply.started": "2023-04-09T18:41:55.683131Z"
    }
   },
   "outputs": [
    {
     "name": "stdout",
     "output_type": "stream",
     "text": [
      "44811 unique tokens\n"
     ]
    }
   ],
   "source": [
    "max_features = 10000 #max numbers of columns in the embeddence matrix\n",
    "sequence_length = 200 #this could be max length of a review. If less, it will be padded\n",
    "#embeddence matrix: nXn matrix - \n",
    "# word2vec - semantic meaning - what is the association between \n",
    "\n",
    "# Tokenize the text\n",
    "train_df['review'] = train_df['review'].apply(preprocess)\n",
    "samples = train_df['review']\n",
    "tokenizer = Tokenizer(num_words = max_features)\n",
    "tokenizer.fit_on_texts(samples)\n",
    "\n",
    "# Convert text to sequences\n",
    "sequences = tokenizer.texts_to_sequences(samples)\n",
    "\n",
    "# Print out the number of unique tokens\n",
    "word_index = tokenizer.word_index\n",
    "print(len(word_index),'unique tokens')"
   ]
  },
  {
   "cell_type": "code",
   "execution_count": 45,
   "metadata": {
    "execution": {
     "iopub.execute_input": "2023-04-09T18:44:02.233301Z",
     "iopub.status.busy": "2023-04-09T18:44:02.232992Z",
     "iopub.status.idle": "2023-04-09T18:44:02.921275Z",
     "shell.execute_reply": "2023-04-09T18:44:02.919954Z",
     "shell.execute_reply.started": "2023-04-09T18:44:02.233270Z"
    }
   },
   "outputs": [
    {
     "name": "stdout",
     "output_type": "stream",
     "text": [
      "Shape of data tensor: (161297, 200)\n"
     ]
    }
   ],
   "source": [
    "#Applying the padding to the training data.\n",
    "#Padding is done to ensure that the inputs to the neural network have the same dimesion\n",
    "train_data = pad_sequences(sequences, maxlen = sequence_length)\n",
    "print('Shape of data tensor:', train_data.shape)"
   ]
  },
  {
   "cell_type": "code",
   "execution_count": 46,
   "metadata": {
    "execution": {
     "iopub.execute_input": "2023-04-09T18:44:02.922645Z",
     "iopub.status.busy": "2023-04-09T18:44:02.922359Z",
     "iopub.status.idle": "2023-04-09T18:44:02.928899Z",
     "shell.execute_reply": "2023-04-09T18:44:02.928013Z",
     "shell.execute_reply.started": "2023-04-09T18:44:02.922616Z"
    }
   },
   "outputs": [
    {
     "data": {
      "text/plain": [
       "(161297, 200)"
      ]
     },
     "execution_count": 46,
     "metadata": {},
     "output_type": "execute_result"
    }
   ],
   "source": [
    "train_data.shape"
   ]
  },
  {
   "cell_type": "code",
   "execution_count": 47,
   "metadata": {
    "execution": {
     "iopub.execute_input": "2023-04-09T18:45:43.226535Z",
     "iopub.status.busy": "2023-04-09T18:45:43.226084Z",
     "iopub.status.idle": "2023-04-09T18:45:43.233905Z",
     "shell.execute_reply": "2023-04-09T18:45:43.232906Z",
     "shell.execute_reply.started": "2023-04-09T18:45:43.226495Z"
    }
   },
   "outputs": [
    {
     "data": {
      "text/plain": [
       "(161297,)"
      ]
     },
     "execution_count": 47,
     "metadata": {},
     "output_type": "execute_result"
    }
   ],
   "source": [
    "train_df['labels'].shape"
   ]
  },
  {
   "cell_type": "code",
   "execution_count": 48,
   "metadata": {
    "execution": {
     "iopub.execute_input": "2023-04-09T18:47:31.503267Z",
     "iopub.status.busy": "2023-04-09T18:47:31.502855Z",
     "iopub.status.idle": "2023-04-09T18:47:31.511685Z",
     "shell.execute_reply": "2023-04-09T18:47:31.510441Z",
     "shell.execute_reply.started": "2023-04-09T18:47:31.503219Z"
    }
   },
   "outputs": [
    {
     "data": {
      "text/plain": [
       "0    2.0\n",
       "1    2.0\n",
       "2    1.0\n",
       "3    2.0\n",
       "4    2.0\n",
       "5    0.0\n",
       "6    0.0\n",
       "7    2.0\n",
       "Name: labels, dtype: float64"
      ]
     },
     "execution_count": 48,
     "metadata": {},
     "output_type": "execute_result"
    }
   ],
   "source": [
    "train_df['labels'][:8]"
   ]
  },
  {
   "cell_type": "code",
   "execution_count": 49,
   "metadata": {},
   "outputs": [
    {
     "name": "stdout",
     "output_type": "stream",
     "text": [
      "[[0. 0. 1.]\n",
      " [0. 0. 1.]\n",
      " [0. 1. 0.]\n",
      " [0. 0. 1.]\n",
      " [0. 0. 1.]\n",
      " [1. 0. 0.]\n",
      " [1. 0. 0.]\n",
      " [0. 0. 1.]\n",
      " [1. 0. 0.]\n",
      " [0. 0. 1.]]\n"
     ]
    }
   ],
   "source": [
    "print(to_categorical(train_df['labels'].tolist())[:10])"
   ]
  },
  {
   "cell_type": "code",
   "execution_count": 50,
   "metadata": {
    "execution": {
     "iopub.execute_input": "2023-04-09T18:47:48.919593Z",
     "iopub.status.busy": "2023-04-09T18:47:48.919179Z",
     "iopub.status.idle": "2023-04-09T18:47:48.996177Z",
     "shell.execute_reply": "2023-04-09T18:47:48.994846Z",
     "shell.execute_reply.started": "2023-04-09T18:47:48.919555Z"
    }
   },
   "outputs": [],
   "source": [
    "# split the data into train/test sets\n",
    "X_train, X_test, y_train, y_test = train_test_split(train_data, to_categorical(train_df['labels'].tolist()),\n",
    "                                                    test_size = 0.2,\n",
    "                                                    random_state = 1)\n",
    "\n",
    "\n"
   ]
  },
  {
   "cell_type": "code",
   "execution_count": 51,
   "metadata": {
    "execution": {
     "iopub.execute_input": "2023-04-09T18:47:49.985848Z",
     "iopub.status.busy": "2023-04-09T18:47:49.984852Z",
     "iopub.status.idle": "2023-04-09T18:47:49.991902Z",
     "shell.execute_reply": "2023-04-09T18:47:49.991025Z",
     "shell.execute_reply.started": "2023-04-09T18:47:49.985810Z"
    }
   },
   "outputs": [
    {
     "data": {
      "text/plain": [
       "((129037, 200), (32260, 200), (129037, 3), (32260, 3))"
      ]
     },
     "execution_count": 51,
     "metadata": {},
     "output_type": "execute_result"
    }
   ],
   "source": [
    "X_train.shape, X_test.shape, y_train.shape, y_test.shape "
   ]
  },
  {
   "cell_type": "code",
   "execution_count": 52,
   "metadata": {
    "execution": {
     "iopub.execute_input": "2023-04-09T18:47:50.717444Z",
     "iopub.status.busy": "2023-04-09T18:47:50.716217Z",
     "iopub.status.idle": "2023-04-09T18:47:50.724459Z",
     "shell.execute_reply": "2023-04-09T18:47:50.723413Z",
     "shell.execute_reply.started": "2023-04-09T18:47:50.717388Z"
    }
   },
   "outputs": [
    {
     "data": {
      "text/plain": [
       "array([[0., 0., 1.],\n",
       "       [0., 0., 1.],\n",
       "       [0., 0., 1.],\n",
       "       [0., 0., 1.],\n",
       "       [0., 0., 1.],\n",
       "       [1., 0., 0.]], dtype=float32)"
      ]
     },
     "execution_count": 52,
     "metadata": {},
     "output_type": "execute_result"
    }
   ],
   "source": [
    "y_train[:6]"
   ]
  },
  {
   "cell_type": "code",
   "execution_count": 53,
   "metadata": {
    "execution": {
     "iopub.execute_input": "2023-04-09T19:09:15.504226Z",
     "iopub.status.busy": "2023-04-09T19:09:15.503873Z",
     "iopub.status.idle": "2023-04-09T19:09:15.597175Z",
     "shell.execute_reply": "2023-04-09T19:09:15.596050Z",
     "shell.execute_reply.started": "2023-04-09T19:09:15.504196Z"
    }
   },
   "outputs": [
    {
     "name": "stdout",
     "output_type": "stream",
     "text": [
      "Model: \"sequential_1\"\n",
      "_________________________________________________________________\n",
      " Layer (type)                Output Shape              Param #   \n",
      "=================================================================\n",
      " embedding_1 (Embedding)     (None, None, 100)         1000100   \n",
      "                                                                 \n",
      " dropout_2 (Dropout)         (None, None, 100)         0         \n",
      "                                                                 \n",
      " conv1d_1 (Conv1D)           (None, None, 128)         89728     \n",
      "                                                                 \n",
      " global_average_pooling1d_1   (None, 128)              0         \n",
      " (GlobalAveragePooling1D)                                        \n",
      "                                                                 \n",
      " dropout_3 (Dropout)         (None, 128)               0         \n",
      "                                                                 \n",
      " dense_2 (Dense)             (None, 256)               33024     \n",
      "                                                                 \n",
      " dense_3 (Dense)             (None, 3)                 771       \n",
      "                                                                 \n",
      "=================================================================\n",
      "Total params: 1,123,623\n",
      "Trainable params: 1,123,623\n",
      "Non-trainable params: 0\n",
      "_________________________________________________________________\n"
     ]
    }
   ],
   "source": [
    "#Defining the layers of CNN\n",
    "#First layer will be embedding. 2nd layer will be convolutional, 3rd will be pooling, a dense layer then \n",
    "#we will have an output layer\n",
    "embedding_dim = 100\n",
    "model = Sequential([\n",
    "    Embedding(max_features + 1, embedding_dim),\n",
    "    Dropout(0.25),\n",
    "    Conv1D(128, 7, padding=\"valid\", activation=\"relu\", strides=3),\n",
    "    GlobalAveragePooling1D(),\n",
    "    Dropout(0.25),\n",
    "    Dense(256, activation=\"relu\"),\n",
    "    Dense(3, activation = 'softmax')])\n",
    "\n",
    "# Compile\n",
    "model.compile(loss = 'categorical_crossentropy',\n",
    "              optimizer = 'rmsprop',\n",
    "              metrics = ['acc'])\n",
    "\n",
    "model.summary()"
   ]
  },
  {
   "cell_type": "code",
   "execution_count": 54,
   "metadata": {
    "execution": {
     "iopub.execute_input": "2023-04-09T19:18:27.453861Z",
     "iopub.status.busy": "2023-04-09T19:18:27.453514Z",
     "iopub.status.idle": "2023-04-09T19:33:58.666485Z",
     "shell.execute_reply": "2023-04-09T19:33:58.665596Z",
     "shell.execute_reply.started": "2023-04-09T19:18:27.453828Z"
    }
   },
   "outputs": [
    {
     "name": "stdout",
     "output_type": "stream",
     "text": [
      "Epoch 1/20\n",
      "202/202 [==============================] - 35s 170ms/step - loss: 0.9375 - acc: 0.6035 - val_loss: 0.9366 - val_acc: 0.5999\n",
      "Epoch 2/20\n",
      "202/202 [==============================] - 41s 204ms/step - loss: 0.9331 - acc: 0.6042 - val_loss: 0.9325 - val_acc: 0.5999\n",
      "Epoch 3/20\n",
      "202/202 [==============================] - 42s 207ms/step - loss: 0.8911 - acc: 0.6149 - val_loss: 0.7978 - val_acc: 0.6780\n",
      "Epoch 4/20\n",
      "202/202 [==============================] - 43s 211ms/step - loss: 0.7466 - acc: 0.7007 - val_loss: 0.7145 - val_acc: 0.7180\n",
      "Epoch 5/20\n",
      "202/202 [==============================] - 43s 215ms/step - loss: 0.6975 - acc: 0.7243 - val_loss: 0.6953 - val_acc: 0.7231\n",
      "Epoch 6/20\n",
      "202/202 [==============================] - 46s 229ms/step - loss: 0.6713 - acc: 0.7352 - val_loss: 0.7434 - val_acc: 0.6937\n",
      "Epoch 7/20\n",
      "202/202 [==============================] - 44s 218ms/step - loss: 0.6499 - acc: 0.7426 - val_loss: 0.6713 - val_acc: 0.7348\n",
      "Epoch 8/20\n",
      "202/202 [==============================] - 43s 212ms/step - loss: 0.6312 - acc: 0.7502 - val_loss: 0.6683 - val_acc: 0.7357\n",
      "Epoch 9/20\n",
      "202/202 [==============================] - 43s 214ms/step - loss: 0.6116 - acc: 0.7572 - val_loss: 0.6647 - val_acc: 0.7379\n",
      "Epoch 10/20\n",
      "202/202 [==============================] - 44s 219ms/step - loss: 0.5896 - acc: 0.7648 - val_loss: 0.6583 - val_acc: 0.7423\n",
      "Epoch 11/20\n",
      "202/202 [==============================] - 44s 217ms/step - loss: 0.5644 - acc: 0.7754 - val_loss: 0.6530 - val_acc: 0.7420\n",
      "Epoch 12/20\n",
      "202/202 [==============================] - 42s 209ms/step - loss: 0.5426 - acc: 0.7845 - val_loss: 0.6541 - val_acc: 0.7461\n",
      "Epoch 13/20\n",
      "202/202 [==============================] - 43s 211ms/step - loss: 0.5208 - acc: 0.7933 - val_loss: 0.6575 - val_acc: 0.7465\n",
      "Epoch 14/20\n",
      "202/202 [==============================] - 45s 224ms/step - loss: 0.4998 - acc: 0.8036 - val_loss: 0.6608 - val_acc: 0.7448\n",
      "Epoch 15/20\n",
      "202/202 [==============================] - 47s 234ms/step - loss: 0.4773 - acc: 0.8127 - val_loss: 0.6597 - val_acc: 0.7495\n",
      "Epoch 16/20\n",
      "202/202 [==============================] - 43s 212ms/step - loss: 0.4571 - acc: 0.8225 - val_loss: 0.6660 - val_acc: 0.7524\n",
      "Epoch 17/20\n",
      "202/202 [==============================] - 42s 208ms/step - loss: 0.4348 - acc: 0.8327 - val_loss: 0.6796 - val_acc: 0.7572\n",
      "Epoch 18/20\n",
      "202/202 [==============================] - 42s 208ms/step - loss: 0.4140 - acc: 0.8417 - val_loss: 0.6791 - val_acc: 0.7605\n",
      "Epoch 19/20\n",
      "202/202 [==============================] - 43s 211ms/step - loss: 0.3943 - acc: 0.8510 - val_loss: 0.7033 - val_acc: 0.7629\n",
      "Epoch 20/20\n",
      "202/202 [==============================] - 44s 219ms/step - loss: 0.3766 - acc: 0.8583 - val_loss: 0.7159 - val_acc: 0.7653\n"
     ]
    }
   ],
   "source": [
    "#Fitting the model\n",
    "history = model.fit(X_train, y_train,\n",
    "          batch_size =512,\n",
    "          epochs = 20,\n",
    "          verbose = 1,\n",
    "          validation_split = 0.2)"
   ]
  },
  {
   "cell_type": "code",
   "execution_count": 55,
   "metadata": {
    "execution": {
     "iopub.execute_input": "2023-04-09T19:35:48.659395Z",
     "iopub.status.busy": "2023-04-09T19:35:48.658999Z",
     "iopub.status.idle": "2023-04-09T19:35:48.666798Z",
     "shell.execute_reply": "2023-04-09T19:35:48.665714Z",
     "shell.execute_reply.started": "2023-04-09T19:35:48.659358Z"
    }
   },
   "outputs": [
    {
     "name": "stdout",
     "output_type": "stream",
     "text": [
      "Average Accuracy 0.758666655421257\n",
      "Average Val Acc 0.7245311498641968\n",
      "Average Loss 0.6020604476332665\n",
      "Average Val Loss 0.7105939000844955\n"
     ]
    }
   ],
   "source": [
    "acc = history.history['acc']\n",
    "val_acc = history.history['val_acc']\n",
    "loss = history.history['loss']\n",
    "val_loss = history.history['val_loss']\n",
    "e = np.arange(len(acc)) + 1\n",
    "print(\"Average Accuracy\",np.average(acc))\n",
    "print(\"Average Val Acc\", np.average(val_acc))\n",
    "print(\"Average Loss\", np.average(loss))\n",
    "print(\"Average Val Loss\", np.average(val_loss))"
   ]
  },
  {
   "cell_type": "code",
   "execution_count": 56,
   "metadata": {
    "execution": {
     "iopub.execute_input": "2023-04-09T19:35:51.412599Z",
     "iopub.status.busy": "2023-04-09T19:35:51.412023Z",
     "iopub.status.idle": "2023-04-09T19:36:04.175504Z",
     "shell.execute_reply": "2023-04-09T19:36:04.174446Z",
     "shell.execute_reply.started": "2023-04-09T19:35:51.412557Z"
    }
   },
   "outputs": [],
   "source": [
    "# Tokenize the text of the validation data\n",
    "test_df['review'] = test_df['review'].apply(preprocess)\n",
    "tsamples = test_df['review']\n",
    "\n",
    "\n",
    "# Convert text to sequences. The same process applied on the training data is repeated\n",
    "tsequences = tokenizer.texts_to_sequences(tsamples)\n",
    "tdata = pad_sequences(tsequences, maxlen = sequence_length)"
   ]
  },
  {
   "cell_type": "code",
   "execution_count": 57,
   "metadata": {
    "execution": {
     "iopub.execute_input": "2023-04-09T19:36:04.177356Z",
     "iopub.status.busy": "2023-04-09T19:36:04.177049Z",
     "iopub.status.idle": "2023-04-09T19:36:04.183275Z",
     "shell.execute_reply": "2023-04-09T19:36:04.182325Z",
     "shell.execute_reply.started": "2023-04-09T19:36:04.177323Z"
    }
   },
   "outputs": [
    {
     "data": {
      "text/plain": [
       "(53766, 200)"
      ]
     },
     "execution_count": 57,
     "metadata": {},
     "output_type": "execute_result"
    }
   ],
   "source": [
    "tdata.shape"
   ]
  },
  {
   "cell_type": "code",
   "execution_count": 58,
   "metadata": {
    "execution": {
     "iopub.execute_input": "2023-04-09T19:36:04.184727Z",
     "iopub.status.busy": "2023-04-09T19:36:04.184463Z",
     "iopub.status.idle": "2023-04-09T19:36:04.198124Z",
     "shell.execute_reply": "2023-04-09T19:36:04.197036Z",
     "shell.execute_reply.started": "2023-04-09T19:36:04.184693Z"
    }
   },
   "outputs": [],
   "source": [
    "test_cat = to_categorical(test_df['labels'].tolist())"
   ]
  },
  {
   "cell_type": "code",
   "execution_count": 59,
   "metadata": {
    "execution": {
     "iopub.execute_input": "2023-04-09T19:36:04.200727Z",
     "iopub.status.busy": "2023-04-09T19:36:04.200248Z",
     "iopub.status.idle": "2023-04-09T19:36:04.210548Z",
     "shell.execute_reply": "2023-04-09T19:36:04.209737Z",
     "shell.execute_reply.started": "2023-04-09T19:36:04.200693Z"
    }
   },
   "outputs": [
    {
     "data": {
      "text/plain": [
       "(53766, 3)"
      ]
     },
     "execution_count": 59,
     "metadata": {},
     "output_type": "execute_result"
    }
   ],
   "source": [
    "test_cat.shape"
   ]
  },
  {
   "cell_type": "code",
   "execution_count": 60,
   "metadata": {
    "execution": {
     "iopub.execute_input": "2023-04-09T19:36:04.212298Z",
     "iopub.status.busy": "2023-04-09T19:36:04.211776Z",
     "iopub.status.idle": "2023-04-09T19:36:12.996860Z",
     "shell.execute_reply": "2023-04-09T19:36:12.995908Z",
     "shell.execute_reply.started": "2023-04-09T19:36:04.212261Z"
    }
   },
   "outputs": [
    {
     "name": "stdout",
     "output_type": "stream",
     "text": [
      "1681/1681 [==============================] - 8s 5ms/step\n",
      "              precision    recall  f1-score   support\n",
      "\n",
      "           0       0.74      0.69      0.71     13497\n",
      "           1       0.48      0.30      0.37      7920\n",
      "           2       0.81      0.90      0.85     32349\n",
      "\n",
      "    accuracy                           0.76     53766\n",
      "   macro avg       0.67      0.63      0.65     53766\n",
      "weighted avg       0.74      0.76      0.75     53766\n",
      "\n"
     ]
    }
   ],
   "source": [
    "# Find the predicted values for the validation set\n",
    "pred_labels = np.argmax(model.predict(tdata), axis = 1)\n",
    "test_labels = np.argmax(test_cat, axis = 1)\n",
    "\n",
    "# Calculate the classification report\n",
    "classification_rep = classification_report(test_labels, pred_labels)\n",
    "print(classification_rep)"
   ]
  },
  {
   "cell_type": "code",
   "execution_count": null,
   "metadata": {},
   "outputs": [],
   "source": []
  }
 ],
 "metadata": {
  "kernelspec": {
   "display_name": "Python 3 (ipykernel)",
   "language": "python",
   "name": "python3"
  },
  "language_info": {
   "codemirror_mode": {
    "name": "ipython",
    "version": 3
   },
   "file_extension": ".py",
   "mimetype": "text/x-python",
   "name": "python",
   "nbconvert_exporter": "python",
   "pygments_lexer": "ipython3",
   "version": "3.9.13"
  }
 },
 "nbformat": 4,
 "nbformat_minor": 4
}
